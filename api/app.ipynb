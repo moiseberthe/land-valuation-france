{
 "cells": [
  {
   "cell_type": "code",
   "execution_count": 1,
   "metadata": {},
   "outputs": [],
   "source": [
    "import pickle\n",
    "import pandas as pd\n",
    "from flask import Flask, request, jsonify\n",
    "from flask_cors import CORS"
   ]
  },
  {
   "cell_type": "code",
   "execution_count": 2,
   "metadata": {},
   "outputs": [],
   "source": [
    "with open(\"../assets/models/random-forest-regressor.pkl\", \"rb\") as f:\n",
    "    model = pickle.load(f)\n",
    "model = model['model']"
   ]
  },
  {
   "cell_type": "code",
   "execution_count": 4,
   "metadata": {},
   "outputs": [
    {
     "data": {
      "text/plain": [
       "array(['Surface reelle bati', 'Nombre pieces principales', 'total',\n",
       "       'Type local_Appartement',\n",
       "       'Type local_Local industriel. commercial ou assimilé',\n",
       "       'Type local_Maison'], dtype=object)"
      ]
     },
     "execution_count": 4,
     "metadata": {},
     "output_type": "execute_result"
    }
   ],
   "source": [
    "model.feature_names_in_"
   ]
  },
  {
   "cell_type": "code",
   "execution_count": 3,
   "metadata": {},
   "outputs": [],
   "source": [
    "app = Flask(__name__)\n",
    "app.config['SECRET_KEY'] = 'a-secret-key'\n",
    "\n",
    "cors = CORS(app, resources={r'/*': {'origin': '*'}})"
   ]
  },
  {
   "cell_type": "code",
   "execution_count": null,
   "metadata": {},
   "outputs": [],
   "source": [
    "fields = [\n",
    "    {'id': 'select-departement'},\n",
    "    {'id': 'select-type-local'},\n",
    "    {'id': 'surfaces'},\n",
    "    {'id': 'nb-pieces'},\n",
    "]"
   ]
  },
  {
   "cell_type": "code",
   "execution_count": 4,
   "metadata": {},
   "outputs": [],
   "source": [
    "@app.route('/estimate', methods=['GET'])\n",
    "def estimate():\n",
    "    data = []\n",
    "    for field in fields:\n",
    "        data.append(request.args.get(field))\n",
    "\n",
    "    X = pd.DataFrame([data], columns=model.feature_names_in_)\n",
    "    prediction = model.predict(X)[0]\n",
    "    result = {'data': {'valeur_fonciere' : prediction}}\n",
    "    return jsonify(result)"
   ]
  },
  {
   "cell_type": "code",
   "execution_count": null,
   "metadata": {},
   "outputs": [],
   "source": [
    "if __name__ == '__main__':\n",
    "    app.run()"
   ]
  }
 ],
 "metadata": {
  "kernelspec": {
   "display_name": ".venv",
   "language": "python",
   "name": "python3"
  },
  "language_info": {
   "codemirror_mode": {
    "name": "ipython",
    "version": 3
   },
   "file_extension": ".py",
   "mimetype": "text/x-python",
   "name": "python",
   "nbconvert_exporter": "python",
   "pygments_lexer": "ipython3",
   "version": "3.11.6"
  }
 },
 "nbformat": 4,
 "nbformat_minor": 2
}
