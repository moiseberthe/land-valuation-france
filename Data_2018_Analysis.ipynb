{
 "cells": [
  {
   "cell_type": "code",
   "execution_count": 1,
   "id": "c7b1852f",
   "metadata": {},
   "outputs": [],
   "source": [
    "import pandas as pd\n",
    "import numpy as np\n",
    "import time\n",
    "from datetime import date"
   ]
  },
  {
   "cell_type": "code",
   "execution_count": 2,
   "id": "2a35e755",
   "metadata": {},
   "outputs": [
    {
     "data": {
      "text/plain": [
       "(4000000, 43)"
      ]
     },
     "execution_count": 2,
     "metadata": {},
     "output_type": "execute_result"
    }
   ],
   "source": [
    "annees = [2018,2019,2020,2021]\n",
    "frames = []\n",
    "for an in annees:\n",
    "    frames.append(\n",
    "        pd.read_csv(f\"./valeursfoncieres-{an}.txt\", sep= '|', decimal=',', nrows= 1000000, low_memory=False))\n",
    "data = pd.concat(frames)\n",
    "df= data.copy()\n",
    "df.shape"
   ]
  },
  {
   "cell_type": "code",
   "execution_count": 3,
   "id": "5d42abbb",
   "metadata": {},
   "outputs": [
    {
     "data": {
      "text/plain": [
       "(957585, 44)"
      ]
     },
     "execution_count": 3,
     "metadata": {},
     "output_type": "execute_result"
    }
   ],
   "source": [
    "#Ici on concaténe les lignes en fonction de l'adresse et de la date (groupby). \n",
    "# Puis (filter) permet de garder uniquement les groupes de lignes qui ont une longueur=1, ce qui signifie qu'il n'y a pas de doublons\n",
    "#Donc les groupes de lignes avec plusieurs ventes à la même adresse et la même date sont supprimés du dataframe. \n",
    "df['key'] = df['Date mutation'].astype('str') + df['Type de voie'].astype('str') + df['Voie'].astype('str') + df['Code postal'].astype('str')\n",
    "df = df.groupby('key').filter(lambda x : len(x) == 1)\n",
    "df.shape"
   ]
  },
  {
   "cell_type": "code",
   "execution_count": 4,
   "id": "92c2a963",
   "metadata": {},
   "outputs": [
    {
     "data": {
      "text/plain": [
       "(945755, 44)"
      ]
     },
     "execution_count": 4,
     "metadata": {},
     "output_type": "execute_result"
    }
   ],
   "source": [
    "df = df[df['Valeur fonciere'] > 1]\n",
    "df.shape"
   ]
  },
  {
   "cell_type": "code",
   "execution_count": 5,
   "id": "172201fe",
   "metadata": {},
   "outputs": [
    {
     "data": {
      "text/plain": [
       "(560031, 44)"
      ]
     },
     "execution_count": 5,
     "metadata": {},
     "output_type": "execute_result"
    }
   ],
   "source": [
    "df = df[df['Type local'].notna()]\n",
    "df.shape"
   ]
  },
  {
   "cell_type": "code",
   "execution_count": 6,
   "id": "127975bd",
   "metadata": {},
   "outputs": [
    {
     "data": {
      "text/plain": [
       "Identifiant de document       100.000000\n",
       "Reference document            100.000000\n",
       "1 Articles CGI                100.000000\n",
       "2 Articles CGI                100.000000\n",
       "3 Articles CGI                100.000000\n",
       "4 Articles CGI                100.000000\n",
       "5 Articles CGI                100.000000\n",
       "No disposition                  0.000000\n",
       "Date mutation                   0.000000\n",
       "Nature mutation                 0.000000\n",
       "Valeur fonciere                 0.000000\n",
       "No voie                         0.923699\n",
       "B/T/Q                          93.379295\n",
       "Type de voie                    9.357161\n",
       "Code voie                       0.000000\n",
       "Voie                            0.001964\n",
       "Code postal                     0.012678\n",
       "Commune                         0.000000\n",
       "Code departement                0.000000\n",
       "Code commune                    0.000000\n",
       "Prefixe de section             90.699265\n",
       "Section                         0.004821\n",
       "No plan                         0.000000\n",
       "No Volume                     100.000000\n",
       "1er lot                        58.349806\n",
       "Surface Carrez du 1er lot      81.318534\n",
       "2eme lot                       85.501695\n",
       "Surface Carrez du 2eme lot     95.146340\n",
       "3eme lot                       97.439606\n",
       "Surface Carrez du 3eme lot     99.485743\n",
       "4eme lot                       99.200044\n",
       "Surface Carrez du 4eme lot     99.874114\n",
       "5eme lot                       99.641627\n",
       "Surface Carrez du 5eme lot     99.957324\n",
       "Nombre de lots                  0.000000\n",
       "Code type local                 0.000000\n",
       "Type local                      0.000000\n",
       "Identifiant local             100.000000\n",
       "Surface reelle bati             0.103566\n",
       "Nombre pieces principales       0.103566\n",
       "Nature culture                 42.251947\n",
       "Nature culture speciale        99.901970\n",
       "Surface terrain                42.251947\n",
       "key                             0.000000\n",
       "dtype: float64"
      ]
     },
     "execution_count": 6,
     "metadata": {},
     "output_type": "execute_result"
    }
   ],
   "source": [
    "missing_value_rate= df.isna().mean() * 100\n",
    "missing_value_rate "
   ]
  },
  {
   "cell_type": "code",
   "execution_count": 7,
   "id": "2b60e5cc",
   "metadata": {},
   "outputs": [
    {
     "data": {
      "text/plain": [
       "(560031, 23)"
      ]
     },
     "execution_count": 7,
     "metadata": {},
     "output_type": "execute_result"
    }
   ],
   "source": [
    "df = df[df.columns[missing_value_rate < 65]]\n",
    "df.shape"
   ]
  },
  {
   "cell_type": "code",
   "execution_count": 8,
   "id": "a7d89f08",
   "metadata": {},
   "outputs": [
    {
     "data": {
      "text/plain": [
       "(560031, 17)"
      ]
     },
     "execution_count": 8,
     "metadata": {},
     "output_type": "execute_result"
    }
   ],
   "source": [
    "#On enlève toutes les variables inutiles + celles qui ont +de 70% de NA\n",
    "df.drop(['No disposition','Section','No plan','Nature culture','1er lot','key'], axis=1, inplace=True)\n",
    "df.shape"
   ]
  },
  {
   "cell_type": "code",
   "execution_count": 9,
   "id": "d9b490c8",
   "metadata": {},
   "outputs": [],
   "source": [
    "df['Date mutation'] = pd.to_datetime(df['Date mutation'], format=\"%d/%m/%Y\")\n",
    "df['annee'] = df['Date mutation'].dt.year\n",
    "df['mois'] = df['Date mutation'].dt.month"
   ]
  },
  {
   "cell_type": "code",
   "execution_count": 143,
   "id": "e2dfbd89",
   "metadata": {},
   "outputs": [],
   "source": [
    "#Transformer les mois en une fonction cyclique: \n",
    "# les variables \"month_cos\" , \"month_sin\", représentent le mois de l'année sous forme de coordonnées dans un cercle unitaire.\n",
    "#Cela permet de capturer la périodicité des mois tout en évitant les erreurs de classification dues à la représentation linéaire de ces variables.\n",
    "#data_2018_drop['mois_sin'] = np.sin(data_2018_drop['Mois'] * (2 * np.pi / 12))\n",
    "#data_2018_drop['mois_cos'] = np.cos(data_2018_drop['Mois'] * (2 * np.pi / 12))"
   ]
  },
  {
   "cell_type": "code",
   "execution_count": null,
   "id": "fc776570",
   "metadata": {},
   "outputs": [],
   "source": [
    "#on va concaténer df et le csv sur code postal qu'ils ont en commun, et on aura le code région de chaque vente"
   ]
  },
  {
   "cell_type": "code",
   "execution_count": null,
   "id": "db3e6a36",
   "metadata": {},
   "outputs": [],
   "source": [
    "#ne pas utiliser longitude et latitude et le justifier\n",
    "#prendre le code region "
   ]
  },
  {
   "cell_type": "code",
   "execution_count": 11,
   "id": "4a391f0f",
   "metadata": {},
   "outputs": [
    {
     "name": "stdout",
     "output_type": "stream",
     "text": [
      "<class 'pandas.core.frame.DataFrame'>\n",
      "Int64Index: 560031 entries, 11 to 993771\n",
      "Data columns (total 19 columns):\n",
      " #   Column                     Non-Null Count   Dtype         \n",
      "---  ------                     --------------   -----         \n",
      " 0   Date mutation              560031 non-null  datetime64[ns]\n",
      " 1   Nature mutation            560031 non-null  object        \n",
      " 2   Valeur fonciere            560031 non-null  float64       \n",
      " 3   No voie                    554858 non-null  float64       \n",
      " 4   Type de voie               507628 non-null  object        \n",
      " 5   Code voie                  560031 non-null  object        \n",
      " 6   Voie                       560020 non-null  object        \n",
      " 7   Code postal                559960 non-null  float64       \n",
      " 8   Commune                    560031 non-null  object        \n",
      " 9   Code departement           560031 non-null  object        \n",
      " 10  Code commune               560031 non-null  int64         \n",
      " 11  Nombre de lots             560031 non-null  int64         \n",
      " 12  Code type local            560031 non-null  float64       \n",
      " 13  Type local                 560031 non-null  object        \n",
      " 14  Surface reelle bati        559451 non-null  float64       \n",
      " 15  Nombre pieces principales  559451 non-null  float64       \n",
      " 16  Surface terrain            323407 non-null  float64       \n",
      " 17  annee                      560031 non-null  int64         \n",
      " 18  mois                       560031 non-null  int64         \n",
      "dtypes: datetime64[ns](1), float64(7), int64(4), object(7)\n",
      "memory usage: 85.5+ MB\n"
     ]
    }
   ],
   "source": [
    "df.info()"
   ]
  },
  {
   "cell_type": "code",
   "execution_count": 13,
   "id": "ade36488",
   "metadata": {},
   "outputs": [],
   "source": [
    "data_coderegion_codepostal= pd.read_csv(\"./data_coderegion_codepostal.csv\", decimal='.',low_memory=False)"
   ]
  },
  {
   "cell_type": "code",
   "execution_count": 14,
   "id": "2dfc3107",
   "metadata": {},
   "outputs": [
    {
     "name": "stdout",
     "output_type": "stream",
     "text": [
      "<class 'pandas.core.frame.DataFrame'>\n",
      "RangeIndex: 38934 entries, 0 to 38933\n",
      "Data columns (total 3 columns):\n",
      " #   Column       Non-Null Count  Dtype  \n",
      "---  ------       --------------  -----  \n",
      " 0   Unnamed: 0   38934 non-null  int64  \n",
      " 1   Code postal  38934 non-null  int64  \n",
      " 2   code_region  38934 non-null  float64\n",
      "dtypes: float64(1), int64(2)\n",
      "memory usage: 912.6 KB\n"
     ]
    }
   ],
   "source": [
    "data_coderegion_codepostal.info()"
   ]
  },
  {
   "cell_type": "code",
   "execution_count": 15,
   "id": "8370250e",
   "metadata": {},
   "outputs": [
    {
     "name": "stdout",
     "output_type": "stream",
     "text": [
      "<class 'pandas.core.frame.DataFrame'>\n",
      "RangeIndex: 38934 entries, 0 to 38933\n",
      "Data columns (total 2 columns):\n",
      " #   Column       Non-Null Count  Dtype  \n",
      "---  ------       --------------  -----  \n",
      " 0   Code postal  38934 non-null  int64  \n",
      " 1   code_region  38934 non-null  float64\n",
      "dtypes: float64(1), int64(1)\n",
      "memory usage: 608.5 KB\n"
     ]
    }
   ],
   "source": [
    "data_coderegion_codepostal=data_coderegion_codepostal.drop(columns='Unnamed: 0')\n",
    "data_coderegion_codepostal.info()"
   ]
  },
  {
   "cell_type": "code",
   "execution_count": 16,
   "id": "c7a938af",
   "metadata": {},
   "outputs": [
    {
     "data": {
      "text/html": [
       "<div>\n",
       "<style scoped>\n",
       "    .dataframe tbody tr th:only-of-type {\n",
       "        vertical-align: middle;\n",
       "    }\n",
       "\n",
       "    .dataframe tbody tr th {\n",
       "        vertical-align: top;\n",
       "    }\n",
       "\n",
       "    .dataframe thead th {\n",
       "        text-align: right;\n",
       "    }\n",
       "</style>\n",
       "<table border=\"1\" class=\"dataframe\">\n",
       "  <thead>\n",
       "    <tr style=\"text-align: right;\">\n",
       "      <th></th>\n",
       "      <th>Code postal</th>\n",
       "      <th>code_region</th>\n",
       "    </tr>\n",
       "  </thead>\n",
       "  <tbody>\n",
       "    <tr>\n",
       "      <th>54</th>\n",
       "      <td>1000</td>\n",
       "      <td>84.0</td>\n",
       "    </tr>\n",
       "    <tr>\n",
       "      <th>166</th>\n",
       "      <td>1090</td>\n",
       "      <td>84.0</td>\n",
       "    </tr>\n",
       "    <tr>\n",
       "      <th>9</th>\n",
       "      <td>1100</td>\n",
       "      <td>84.0</td>\n",
       "    </tr>\n",
       "    <tr>\n",
       "      <th>10</th>\n",
       "      <td>1110</td>\n",
       "      <td>84.0</td>\n",
       "    </tr>\n",
       "    <tr>\n",
       "      <th>49</th>\n",
       "      <td>1120</td>\n",
       "      <td>84.0</td>\n",
       "    </tr>\n",
       "    <tr>\n",
       "      <th>...</th>\n",
       "      <td>...</td>\n",
       "      <td>...</td>\n",
       "    </tr>\n",
       "    <tr>\n",
       "      <th>38932</th>\n",
       "      <td>97640</td>\n",
       "      <td>6.0</td>\n",
       "    </tr>\n",
       "    <tr>\n",
       "      <th>38912</th>\n",
       "      <td>97650</td>\n",
       "      <td>6.0</td>\n",
       "    </tr>\n",
       "    <tr>\n",
       "      <th>38913</th>\n",
       "      <td>97660</td>\n",
       "      <td>6.0</td>\n",
       "    </tr>\n",
       "    <tr>\n",
       "      <th>38915</th>\n",
       "      <td>97670</td>\n",
       "      <td>6.0</td>\n",
       "    </tr>\n",
       "    <tr>\n",
       "      <th>38926</th>\n",
       "      <td>97680</td>\n",
       "      <td>6.0</td>\n",
       "    </tr>\n",
       "  </tbody>\n",
       "</table>\n",
       "<p>6188 rows × 2 columns</p>\n",
       "</div>"
      ],
      "text/plain": [
       "       Code postal  code_region\n",
       "54            1000         84.0\n",
       "166           1090         84.0\n",
       "9             1100         84.0\n",
       "10            1110         84.0\n",
       "49            1120         84.0\n",
       "...            ...          ...\n",
       "38932        97640          6.0\n",
       "38912        97650          6.0\n",
       "38913        97660          6.0\n",
       "38915        97670          6.0\n",
       "38926        97680          6.0\n",
       "\n",
       "[6188 rows x 2 columns]"
      ]
     },
     "execution_count": 16,
     "metadata": {},
     "output_type": "execute_result"
    }
   ],
   "source": [
    "#il faut supprimer les doublons et avoir: 1 code postal --> 1 code région\n",
    "data_coderegion_codepostal = data_coderegion_codepostal.drop_duplicates(subset=\"Code postal\", keep=\"first\")\n",
    "data_coderegion_codepostal.sort_values(by='Code postal')"
   ]
  },
  {
   "cell_type": "code",
   "execution_count": 17,
   "id": "721227b6",
   "metadata": {},
   "outputs": [],
   "source": [
    "#Faire une jointure avec merge\n",
    "df_new = pd.merge(data_coderegion_codepostal, df, on=\"Code postal\", how=\"left\", sort=False)"
   ]
  },
  {
   "cell_type": "code",
   "execution_count": 18,
   "id": "1fc39625",
   "metadata": {},
   "outputs": [
    {
     "name": "stdout",
     "output_type": "stream",
     "text": [
      "<class 'pandas.core.frame.DataFrame'>\n",
      "Int64Index: 564237 entries, 0 to 564236\n",
      "Data columns (total 20 columns):\n",
      " #   Column                     Non-Null Count   Dtype         \n",
      "---  ------                     --------------   -----         \n",
      " 0   Code postal                564237 non-null  int64         \n",
      " 1   code_region                564237 non-null  float64       \n",
      " 2   Date mutation              559960 non-null  datetime64[ns]\n",
      " 3   Nature mutation            559960 non-null  object        \n",
      " 4   Valeur fonciere            559960 non-null  float64       \n",
      " 5   No voie                    554790 non-null  float64       \n",
      " 6   Type de voie               507562 non-null  object        \n",
      " 7   Code voie                  559960 non-null  object        \n",
      " 8   Voie                       559949 non-null  object        \n",
      " 9   Commune                    559960 non-null  object        \n",
      " 10  Code departement           559960 non-null  object        \n",
      " 11  Code commune               559960 non-null  float64       \n",
      " 12  Nombre de lots             559960 non-null  float64       \n",
      " 13  Code type local            559960 non-null  float64       \n",
      " 14  Type local                 559960 non-null  object        \n",
      " 15  Surface reelle bati        559380 non-null  float64       \n",
      " 16  Nombre pieces principales  559380 non-null  float64       \n",
      " 17  Surface terrain            323377 non-null  float64       \n",
      " 18  annee                      559960 non-null  float64       \n",
      " 19  mois                       559960 non-null  float64       \n",
      "dtypes: datetime64[ns](1), float64(11), int64(1), object(7)\n",
      "memory usage: 90.4+ MB\n"
     ]
    }
   ],
   "source": [
    "df_new.info()"
   ]
  },
  {
   "cell_type": "code",
   "execution_count": 20,
   "id": "e356e0f9",
   "metadata": {},
   "outputs": [
    {
     "data": {
      "text/html": [
       "<div>\n",
       "<style scoped>\n",
       "    .dataframe tbody tr th:only-of-type {\n",
       "        vertical-align: middle;\n",
       "    }\n",
       "\n",
       "    .dataframe tbody tr th {\n",
       "        vertical-align: top;\n",
       "    }\n",
       "\n",
       "    .dataframe thead th {\n",
       "        text-align: right;\n",
       "    }\n",
       "</style>\n",
       "<table border=\"1\" class=\"dataframe\">\n",
       "  <thead>\n",
       "    <tr style=\"text-align: right;\">\n",
       "      <th></th>\n",
       "      <th>Code postal</th>\n",
       "      <th>code_region</th>\n",
       "      <th>Date mutation</th>\n",
       "      <th>Nature mutation</th>\n",
       "      <th>Valeur fonciere</th>\n",
       "      <th>No voie</th>\n",
       "      <th>Type de voie</th>\n",
       "      <th>Code voie</th>\n",
       "      <th>Voie</th>\n",
       "      <th>Commune</th>\n",
       "      <th>Code departement</th>\n",
       "      <th>Code commune</th>\n",
       "      <th>Nombre de lots</th>\n",
       "      <th>Code type local</th>\n",
       "      <th>Type local</th>\n",
       "      <th>Surface reelle bati</th>\n",
       "      <th>Nombre pieces principales</th>\n",
       "      <th>Surface terrain</th>\n",
       "      <th>annee</th>\n",
       "      <th>mois</th>\n",
       "    </tr>\n",
       "  </thead>\n",
       "  <tbody>\n",
       "    <tr>\n",
       "      <th>0</th>\n",
       "      <td>1400</td>\n",
       "      <td>84.0</td>\n",
       "      <td>2018-01-12</td>\n",
       "      <td>Vente</td>\n",
       "      <td>270700.0</td>\n",
       "      <td>75.0</td>\n",
       "      <td>RUE</td>\n",
       "      <td>0480</td>\n",
       "      <td>VICTOR HUGO</td>\n",
       "      <td>CHATILLON-SUR-CHALARONNE</td>\n",
       "      <td>01</td>\n",
       "      <td>93.0</td>\n",
       "      <td>0.0</td>\n",
       "      <td>1.0</td>\n",
       "      <td>Maison</td>\n",
       "      <td>75.0</td>\n",
       "      <td>4.0</td>\n",
       "      <td>354.0</td>\n",
       "      <td>2018.0</td>\n",
       "      <td>1.0</td>\n",
       "    </tr>\n",
       "    <tr>\n",
       "      <th>1</th>\n",
       "      <td>1400</td>\n",
       "      <td>84.0</td>\n",
       "      <td>2018-01-09</td>\n",
       "      <td>Vente</td>\n",
       "      <td>70000.0</td>\n",
       "      <td>18.0</td>\n",
       "      <td>RUE</td>\n",
       "      <td>0100</td>\n",
       "      <td>COMMERSON</td>\n",
       "      <td>CHATILLON-SUR-CHALARONNE</td>\n",
       "      <td>01</td>\n",
       "      <td>93.0</td>\n",
       "      <td>0.0</td>\n",
       "      <td>4.0</td>\n",
       "      <td>Local industriel. commercial ou assimilé</td>\n",
       "      <td>112.0</td>\n",
       "      <td>0.0</td>\n",
       "      <td>112.0</td>\n",
       "      <td>2018.0</td>\n",
       "      <td>1.0</td>\n",
       "    </tr>\n",
       "    <tr>\n",
       "      <th>2</th>\n",
       "      <td>1400</td>\n",
       "      <td>84.0</td>\n",
       "      <td>2018-01-24</td>\n",
       "      <td>Vente</td>\n",
       "      <td>202500.0</td>\n",
       "      <td>2.0</td>\n",
       "      <td>LOT</td>\n",
       "      <td>A090</td>\n",
       "      <td>LES FRENES</td>\n",
       "      <td>CONDEISSIAT</td>\n",
       "      <td>01</td>\n",
       "      <td>113.0</td>\n",
       "      <td>0.0</td>\n",
       "      <td>1.0</td>\n",
       "      <td>Maison</td>\n",
       "      <td>108.0</td>\n",
       "      <td>5.0</td>\n",
       "      <td>1166.0</td>\n",
       "      <td>2018.0</td>\n",
       "      <td>1.0</td>\n",
       "    </tr>\n",
       "    <tr>\n",
       "      <th>3</th>\n",
       "      <td>1400</td>\n",
       "      <td>84.0</td>\n",
       "      <td>2018-01-26</td>\n",
       "      <td>Vente</td>\n",
       "      <td>20000.0</td>\n",
       "      <td>5.0</td>\n",
       "      <td>IMP</td>\n",
       "      <td>0160</td>\n",
       "      <td>GUICHENON</td>\n",
       "      <td>CHATILLON-SUR-CHALARONNE</td>\n",
       "      <td>01</td>\n",
       "      <td>93.0</td>\n",
       "      <td>0.0</td>\n",
       "      <td>1.0</td>\n",
       "      <td>Maison</td>\n",
       "      <td>43.0</td>\n",
       "      <td>3.0</td>\n",
       "      <td>24.0</td>\n",
       "      <td>2018.0</td>\n",
       "      <td>1.0</td>\n",
       "    </tr>\n",
       "    <tr>\n",
       "      <th>4</th>\n",
       "      <td>1400</td>\n",
       "      <td>84.0</td>\n",
       "      <td>2018-02-02</td>\n",
       "      <td>Vente</td>\n",
       "      <td>186520.0</td>\n",
       "      <td>6.0</td>\n",
       "      <td>RUE</td>\n",
       "      <td>0490</td>\n",
       "      <td>VOLTAIRE</td>\n",
       "      <td>CHATILLON-SUR-CHALARONNE</td>\n",
       "      <td>01</td>\n",
       "      <td>93.0</td>\n",
       "      <td>0.0</td>\n",
       "      <td>1.0</td>\n",
       "      <td>Maison</td>\n",
       "      <td>81.0</td>\n",
       "      <td>3.0</td>\n",
       "      <td>782.0</td>\n",
       "      <td>2018.0</td>\n",
       "      <td>2.0</td>\n",
       "    </tr>\n",
       "  </tbody>\n",
       "</table>\n",
       "</div>"
      ],
      "text/plain": [
       "   Code postal  code_region Date mutation Nature mutation  Valeur fonciere  \\\n",
       "0         1400         84.0    2018-01-12           Vente         270700.0   \n",
       "1         1400         84.0    2018-01-09           Vente          70000.0   \n",
       "2         1400         84.0    2018-01-24           Vente         202500.0   \n",
       "3         1400         84.0    2018-01-26           Vente          20000.0   \n",
       "4         1400         84.0    2018-02-02           Vente         186520.0   \n",
       "\n",
       "   No voie Type de voie Code voie         Voie                   Commune  \\\n",
       "0     75.0          RUE      0480  VICTOR HUGO  CHATILLON-SUR-CHALARONNE   \n",
       "1     18.0          RUE      0100    COMMERSON  CHATILLON-SUR-CHALARONNE   \n",
       "2      2.0          LOT      A090   LES FRENES               CONDEISSIAT   \n",
       "3      5.0          IMP      0160    GUICHENON  CHATILLON-SUR-CHALARONNE   \n",
       "4      6.0          RUE      0490     VOLTAIRE  CHATILLON-SUR-CHALARONNE   \n",
       "\n",
       "  Code departement  Code commune  Nombre de lots  Code type local  \\\n",
       "0               01          93.0             0.0              1.0   \n",
       "1               01          93.0             0.0              4.0   \n",
       "2               01         113.0             0.0              1.0   \n",
       "3               01          93.0             0.0              1.0   \n",
       "4               01          93.0             0.0              1.0   \n",
       "\n",
       "                                 Type local  Surface reelle bati  \\\n",
       "0                                    Maison                 75.0   \n",
       "1  Local industriel. commercial ou assimilé                112.0   \n",
       "2                                    Maison                108.0   \n",
       "3                                    Maison                 43.0   \n",
       "4                                    Maison                 81.0   \n",
       "\n",
       "   Nombre pieces principales  Surface terrain   annee  mois  \n",
       "0                        4.0            354.0  2018.0   1.0  \n",
       "1                        0.0            112.0  2018.0   1.0  \n",
       "2                        5.0           1166.0  2018.0   1.0  \n",
       "3                        3.0             24.0  2018.0   1.0  \n",
       "4                        3.0            782.0  2018.0   2.0  "
      ]
     },
     "execution_count": 20,
     "metadata": {},
     "output_type": "execute_result"
    }
   ],
   "source": [
    "df_new.head()"
   ]
  },
  {
   "cell_type": "code",
   "execution_count": 21,
   "id": "2e287e67",
   "metadata": {},
   "outputs": [],
   "source": [
    "df_new.to_csv(\"df_new.csv\", index = True)"
   ]
  },
  {
   "cell_type": "code",
   "execution_count": 22,
   "id": "f6bb28b8",
   "metadata": {},
   "outputs": [],
   "source": [
    "#corrélation entre code type local et les variables quantitatives\n",
    "variables_numeriques = [\"Code type local\", \"Nombre pieces principales\", \"Nombre de lots\", \"Valeur fonciere\", \"Surface reelle bati\",\"Surface terrain\"]"
   ]
  },
  {
   "cell_type": "code",
   "execution_count": 23,
   "id": "c260790f",
   "metadata": {},
   "outputs": [],
   "source": [
    "new_df=df_new[variables_numeriques]"
   ]
  },
  {
   "cell_type": "code",
   "execution_count": 24,
   "id": "9fe0137f",
   "metadata": {},
   "outputs": [
    {
     "name": "stdout",
     "output_type": "stream",
     "text": [
      "                           Code type local  Nombre pieces principales  \\\n",
      "Code type local                   1.000000                  -0.751338   \n",
      "Nombre pieces principales        -0.751338                   1.000000   \n",
      "Nombre de lots                    0.453395                  -0.315639   \n",
      "Valeur fonciere                  -0.003852                   0.035275   \n",
      "Surface reelle bati               0.072231                   0.013559   \n",
      "Surface terrain                   0.194876                  -0.036300   \n",
      "\n",
      "                           Nombre de lots  Valeur fonciere  \\\n",
      "Code type local                  0.453395        -0.003852   \n",
      "Nombre pieces principales       -0.315639         0.035275   \n",
      "Nombre de lots                   1.000000        -0.011052   \n",
      "Valeur fonciere                 -0.011052         1.000000   \n",
      "Surface reelle bati             -0.033578         0.118008   \n",
      "Surface terrain                 -0.008191         0.079988   \n",
      "\n",
      "                           Surface reelle bati  Surface terrain  \n",
      "Code type local                       0.072231         0.194876  \n",
      "Nombre pieces principales             0.013559        -0.036300  \n",
      "Nombre de lots                       -0.033578        -0.008191  \n",
      "Valeur fonciere                       0.118008         0.079988  \n",
      "Surface reelle bati                   1.000000         0.397489  \n",
      "Surface terrain                       0.397489         1.000000  \n"
     ]
    }
   ],
   "source": [
    "matrice_correlation=new_df.corr()\n",
    "print(matrice_correlation)"
   ]
  },
  {
   "cell_type": "code",
   "execution_count": null,
   "id": "6d3bb3f5",
   "metadata": {},
   "outputs": [],
   "source": [
    "#Il n'y a que \"Nombre de pièce principale\" et \"nombre de lot\" qui semblent corréler"
   ]
  },
  {
   "cell_type": "code",
   "execution_count": 34,
   "id": "4da8e983",
   "metadata": {},
   "outputs": [],
   "source": [
    "import seaborn as sns\n",
    "import matplotlib.pyplot as plt"
   ]
  },
  {
   "cell_type": "code",
   "execution_count": 35,
   "id": "682525a1",
   "metadata": {},
   "outputs": [
    {
     "data": {
      "image/png": "[encoded data removed]",
      "text/plain": [
       "<Figure size 1000x800 with 2 Axes>"
      ]
     },
     "metadata": {},
     "output_type": "display_data"
    }
   ],
   "source": [
    "matrice_correlation=new_df.corr()\n",
    "plt.figure(figsize=(10, 8))\n",
    "sns.heatmap(matrice_correlation, annot=True, cmap=\"coolwarm\", linewidths=.5)\n",
    "plt.title(\"Carte de chaleur de la corrélation\")\n",
    "plt.show()"
   ]
  },
  {
   "cell_type": "code",
   "execution_count": null,
   "id": "1611772a",
   "metadata": {},
   "outputs": [],
   "source": [
    "#Peut-être binariser la colonne code région et rajouter nbr de population par region\n",
    "#et voir si elle sont coorélée avec code type local"
   ]
  },
  {
   "cell_type": "code",
   "execution_count": null,
   "id": "8e708369",
   "metadata": {},
   "outputs": [],
   "source": [
    "# Dupliquer df_new en df_classification: \n",
    "#ce dernier sera le data set initial pour faire la prédiction du type local"
   ]
  },
  {
   "cell_type": "code",
   "execution_count": null,
   "id": "ff054917",
   "metadata": {},
   "outputs": [],
   "source": [
    "#dans df_classification, supprimer les NA du type local (et du code type local)"
   ]
  },
  {
   "cell_type": "code",
   "execution_count": 36,
   "id": "7248e271",
   "metadata": {},
   "outputs": [],
   "source": [
    "df_classification= df_new.copy()"
   ]
  },
  {
   "cell_type": "code",
   "execution_count": 40,
   "id": "a4bb329d",
   "metadata": {},
   "outputs": [
    {
     "name": "stdout",
     "output_type": "stream",
     "text": [
      "<class 'pandas.core.frame.DataFrame'>\n",
      "Int64Index: 564237 entries, 0 to 564236\n",
      "Data columns (total 20 columns):\n",
      " #   Column                     Non-Null Count   Dtype         \n",
      "---  ------                     --------------   -----         \n",
      " 0   Code postal                564237 non-null  int64         \n",
      " 1   code_region                564237 non-null  float64       \n",
      " 2   Date mutation              559960 non-null  datetime64[ns]\n",
      " 3   Nature mutation            559960 non-null  object        \n",
      " 4   Valeur fonciere            559960 non-null  float64       \n",
      " 5   No voie                    554790 non-null  float64       \n",
      " 6   Type de voie               507562 non-null  object        \n",
      " 7   Code voie                  559960 non-null  object        \n",
      " 8   Voie                       559949 non-null  object        \n",
      " 9   Commune                    559960 non-null  object        \n",
      " 10  Code departement           559960 non-null  object        \n",
      " 11  Code commune               559960 non-null  float64       \n",
      " 12  Nombre de lots             559960 non-null  float64       \n",
      " 13  Code type local            559960 non-null  float64       \n",
      " 14  Type local                 559960 non-null  object        \n",
      " 15  Surface reelle bati        559380 non-null  float64       \n",
      " 16  Nombre pieces principales  559380 non-null  float64       \n",
      " 17  Surface terrain            323377 non-null  float64       \n",
      " 18  annee                      559960 non-null  float64       \n",
      " 19  mois                       559960 non-null  float64       \n",
      "dtypes: datetime64[ns](1), float64(11), int64(1), object(7)\n",
      "memory usage: 90.4+ MB\n"
     ]
    }
   ],
   "source": [
    "df_classification.info()"
   ]
  },
  {
   "cell_type": "code",
   "execution_count": 41,
   "id": "c8e1ce33",
   "metadata": {},
   "outputs": [
    {
     "data": {
      "text/plain": [
       "0.007580148058351366"
      ]
     },
     "execution_count": 41,
     "metadata": {},
     "output_type": "execute_result"
    }
   ],
   "source": [
    "df_classification[\"Type local\"].isna().mean()"
   ]
  },
  {
   "cell_type": "code",
   "execution_count": 42,
   "id": "1484c09f",
   "metadata": {},
   "outputs": [
    {
     "data": {
      "text/plain": [
       "0.007580148058351366"
      ]
     },
     "execution_count": 42,
     "metadata": {},
     "output_type": "execute_result"
    }
   ],
   "source": [
    "df_classification[\"Code type local\"].isna().mean()"
   ]
  },
  {
   "cell_type": "code",
   "execution_count": 43,
   "id": "d8ccda83",
   "metadata": {},
   "outputs": [],
   "source": [
    "#enlever les NA:\n",
    "df_classification= df_classification.dropna(subset=[\"Type local\"])\n",
    "df_classification= df_classification.dropna(subset=[\"Code type local\"])"
   ]
  },
  {
   "cell_type": "code",
   "execution_count": null,
   "id": "15f247f9",
   "metadata": {},
   "outputs": [],
   "source": [
    "#Centrer et réduire les variables explicatives\n",
    "#ici on prend que \"nombre de pieces principales\" et \"nombre de lots\" (pas la peine)"
   ]
  },
  {
   "cell_type": "markdown",
   "id": "0e830599",
   "metadata": {},
   "source": [
    "# Tester le modele de K-Means"
   ]
  },
  {
   "cell_type": "code",
   "execution_count": null,
   "id": "ef8086e6",
   "metadata": {},
   "outputs": [],
   "source": [
    "#Il faut centrer et réduire les données en amont (si besoin: si les variables ne sont pas de la même unité)"
   ]
  },
  {
   "cell_type": "code",
   "execution_count": null,
   "id": "13f03416",
   "metadata": {},
   "outputs": [],
   "source": [
    "#faire le split train/ test\n",
    "#dans le train, faire fill.na median (moins sensible au variattion que la moyenne, ou knn imputer)\n",
    "#faire fill. na (ou knn imputer) dans l'echantillon test aussi"
   ]
  },
  {
   "cell_type": "code",
   "execution_count": 46,
   "id": "9ae75d45",
   "metadata": {},
   "outputs": [],
   "source": [
    "from sklearn.model_selection import train_test_split, GridSearchCV, ShuffleSplit\n",
    "from sklearn.tree import DecisionTreeClassifier, plot_tree\n",
    "from sklearn.metrics import mean_squared_error, accuracy_score, confusion_matrix, f1_score, recall_score, precision_score, make_scorer, roc_curve, auc\n",
    "from scipy import interp\n",
    "from sklearn.neighbors import KNeighborsClassifier\n",
    "from sklearn.linear_model import LogisticRegression, LinearRegression, Ridge, Lasso, ElasticNet\n",
    "from sklearn.ensemble import RandomForestClassifier, BaggingClassifier, GradientBoostingClassifier\n",
    "from sklearn.preprocessing import StandardScaler\n",
    "from statistics import mean"
   ]
  },
  {
   "cell_type": "code",
   "execution_count": 51,
   "id": "89beda6e",
   "metadata": {},
   "outputs": [],
   "source": [
    "X = df_classification[['Nombre de lots','Nombre pieces principales']]"
   ]
  },
  {
   "cell_type": "code",
   "execution_count": 52,
   "id": "aac8d3b0",
   "metadata": {},
   "outputs": [],
   "source": [
    "Y = df_classification[['Type local']]"
   ]
  },
  {
   "cell_type": "code",
   "execution_count": 69,
   "id": "73c2c8ab",
   "metadata": {},
   "outputs": [],
   "source": [
    "from sklearn.model_selection import train_test_split\n",
    "#70% des données pour l’apprentissage\n",
    "#30% des données pour l'échantillon test\n",
    "X_train, X_test, y_train, y_test = train_test_split(X, Y,\n",
    "                                                    test_size = 0.30,\n",
    "                                                    stratify = Y,\n",
    "                                                    random_state = 42)"
   ]
  },
  {
   "cell_type": "code",
   "execution_count": 70,
   "id": "0d176adf",
   "metadata": {},
   "outputs": [
    {
     "data": {
      "text/plain": [
       "Type local                              \n",
       "Maison                                      0.569957\n",
       "Appartement                                 0.277663\n",
       "Dépendance                                  0.093292\n",
       "Local industriel. commercial ou assimilé    0.059088\n",
       "dtype: float64"
      ]
     },
     "execution_count": 70,
     "metadata": {},
     "output_type": "execute_result"
    }
   ],
   "source": [
    "y_test.value_counts(normalize=True)"
   ]
  },
  {
   "cell_type": "code",
   "execution_count": 71,
   "id": "50547cd4",
   "metadata": {},
   "outputs": [
    {
     "data": {
      "text/plain": [
       "Type local                              \n",
       "Maison                                      0.569957\n",
       "Appartement                                 0.277660\n",
       "Dépendance                                  0.093295\n",
       "Local industriel. commercial ou assimilé    0.059088\n",
       "dtype: float64"
      ]
     },
     "execution_count": 71,
     "metadata": {},
     "output_type": "execute_result"
    }
   ],
   "source": [
    "y_train.value_counts(normalize=True)"
   ]
  },
  {
   "cell_type": "code",
   "execution_count": 72,
   "id": "99ae8144",
   "metadata": {},
   "outputs": [
    {
     "data": {
      "text/plain": [
       "Nombre de lots  Nombre pieces principales\n",
       "False           False                        391581\n",
       "                True                            391\n",
       "dtype: int64"
      ]
     },
     "execution_count": 72,
     "metadata": {},
     "output_type": "execute_result"
    }
   ],
   "source": [
    "X_train.isna().value_counts()"
   ]
  },
  {
   "cell_type": "code",
   "execution_count": 73,
   "id": "5c3fce79",
   "metadata": {},
   "outputs": [],
   "source": [
    "X_train[\"Nombre pieces principales\"].fillna(X_train[\"Nombre pieces principales\"].median(), inplace=True)"
   ]
  },
  {
   "cell_type": "code",
   "execution_count": 74,
   "id": "14503a48",
   "metadata": {},
   "outputs": [
    {
     "data": {
      "text/plain": [
       "False    391972\n",
       "Name: Nombre pieces principales, dtype: int64"
      ]
     },
     "execution_count": 74,
     "metadata": {},
     "output_type": "execute_result"
    }
   ],
   "source": [
    "X_train[\"Nombre pieces principales\"].isna().value_counts()"
   ]
  },
  {
   "cell_type": "code",
   "execution_count": 75,
   "id": "327d796b",
   "metadata": {},
   "outputs": [],
   "source": [
    "X_test[\"Nombre pieces principales\"].fillna(X_test[\"Nombre pieces principales\"].median(), inplace=True)"
   ]
  },
  {
   "cell_type": "code",
   "execution_count": 76,
   "id": "d0a926bb",
   "metadata": {},
   "outputs": [
    {
     "data": {
      "text/plain": [
       "False    167988\n",
       "Name: Nombre pieces principales, dtype: int64"
      ]
     },
     "execution_count": 76,
     "metadata": {},
     "output_type": "execute_result"
    }
   ],
   "source": [
    "X_test[\"Nombre pieces principales\"].isna().value_counts()"
   ]
  },
  {
   "cell_type": "code",
   "execution_count": null,
   "id": "d7cc1604",
   "metadata": {},
   "outputs": [],
   "source": [
    "#Vérifier si moyenne et médiane des 2 variables explicatives sont sur la même échelle pour déterminer si on centre et on réduit"
   ]
  },
  {
   "cell_type": "code",
   "execution_count": 78,
   "id": "338bf962",
   "metadata": {},
   "outputs": [
    {
     "data": {
      "text/html": [
       "<div>\n",
       "<style scoped>\n",
       "    .dataframe tbody tr th:only-of-type {\n",
       "        vertical-align: middle;\n",
       "    }\n",
       "\n",
       "    .dataframe tbody tr th {\n",
       "        vertical-align: top;\n",
       "    }\n",
       "\n",
       "    .dataframe thead th {\n",
       "        text-align: right;\n",
       "    }\n",
       "</style>\n",
       "<table border=\"1\" class=\"dataframe\">\n",
       "  <thead>\n",
       "    <tr style=\"text-align: right;\">\n",
       "      <th></th>\n",
       "      <th>Nombre de lots</th>\n",
       "      <th>Nombre pieces principales</th>\n",
       "    </tr>\n",
       "  </thead>\n",
       "  <tbody>\n",
       "    <tr>\n",
       "      <th>count</th>\n",
       "      <td>559960.000000</td>\n",
       "      <td>559380.000000</td>\n",
       "    </tr>\n",
       "    <tr>\n",
       "      <th>mean</th>\n",
       "      <td>0.607527</td>\n",
       "      <td>3.035402</td>\n",
       "    </tr>\n",
       "    <tr>\n",
       "      <th>std</th>\n",
       "      <td>0.975440</td>\n",
       "      <td>1.899402</td>\n",
       "    </tr>\n",
       "    <tr>\n",
       "      <th>min</th>\n",
       "      <td>0.000000</td>\n",
       "      <td>0.000000</td>\n",
       "    </tr>\n",
       "    <tr>\n",
       "      <th>25%</th>\n",
       "      <td>0.000000</td>\n",
       "      <td>2.000000</td>\n",
       "    </tr>\n",
       "    <tr>\n",
       "      <th>50%</th>\n",
       "      <td>0.000000</td>\n",
       "      <td>3.000000</td>\n",
       "    </tr>\n",
       "    <tr>\n",
       "      <th>75%</th>\n",
       "      <td>1.000000</td>\n",
       "      <td>4.000000</td>\n",
       "    </tr>\n",
       "    <tr>\n",
       "      <th>max</th>\n",
       "      <td>141.000000</td>\n",
       "      <td>67.000000</td>\n",
       "    </tr>\n",
       "  </tbody>\n",
       "</table>\n",
       "</div>"
      ],
      "text/plain": [
       "       Nombre de lots  Nombre pieces principales\n",
       "count   559960.000000              559380.000000\n",
       "mean         0.607527                   3.035402\n",
       "std          0.975440                   1.899402\n",
       "min          0.000000                   0.000000\n",
       "25%          0.000000                   2.000000\n",
       "50%          0.000000                   3.000000\n",
       "75%          1.000000                   4.000000\n",
       "max        141.000000                  67.000000"
      ]
     },
     "execution_count": 78,
     "metadata": {},
     "output_type": "execute_result"
    }
   ],
   "source": [
    "X.describe()"
   ]
  },
  {
   "cell_type": "code",
   "execution_count": null,
   "id": "819667d9",
   "metadata": {},
   "outputs": [],
   "source": [
    "#Faire sans gridsearchCV pour commencer"
   ]
  },
  {
   "cell_type": "code",
   "execution_count": 80,
   "id": "9216babd",
   "metadata": {},
   "outputs": [
    {
     "name": "stderr",
     "output_type": "stream",
     "text": [
      "/opt/anaconda3/lib/python3.8/site-packages/sklearn/neighbors/_classification.py:215: DataConversionWarning: A column-vector y was passed when a 1d array was expected. Please change the shape of y to (n_samples,), for example using ravel().\n",
      "  return self._fit(X, y)\n"
     ]
    },
    {
     "data": {
      "text/html": [
       "<style>#sk-container-id-2 {color: black;background-color: white;}#sk-container-id-2 pre{padding: 0;}#sk-container-id-2 div.sk-toggleable {background-color: white;}#sk-container-id-2 label.sk-toggleable__label {cursor: pointer;display: block;width: 100%;margin-bottom: 0;padding: 0.3em;box-sizing: border-box;text-align: center;}#sk-container-id-2 label.sk-toggleable__label-arrow:before {content: \"▸\";float: left;margin-right: 0.25em;color: #696969;}#sk-container-id-2 label.sk-toggleable__label-arrow:hover:before {color: black;}#sk-container-id-2 div.sk-estimator:hover label.sk-toggleable__label-arrow:before {color: black;}#sk-container-id-2 div.sk-toggleable__content {max-height: 0;max-width: 0;overflow: hidden;text-align: left;background-color: #f0f8ff;}#sk-container-id-2 div.sk-toggleable__content pre {margin: 0.2em;color: black;border-radius: 0.25em;background-color: #f0f8ff;}#sk-container-id-2 input.sk-toggleable__control:checked~div.sk-toggleable__content {max-height: 200px;max-width: 100%;overflow: auto;}#sk-container-id-2 input.sk-toggleable__control:checked~label.sk-toggleable__label-arrow:before {content: \"▾\";}#sk-container-id-2 div.sk-estimator input.sk-toggleable__control:checked~label.sk-toggleable__label {background-color: #d4ebff;}#sk-container-id-2 div.sk-label input.sk-toggleable__control:checked~label.sk-toggleable__label {background-color: #d4ebff;}#sk-container-id-2 input.sk-hidden--visually {border: 0;clip: rect(1px 1px 1px 1px);clip: rect(1px, 1px, 1px, 1px);height: 1px;margin: -1px;overflow: hidden;padding: 0;position: absolute;width: 1px;}#sk-container-id-2 div.sk-estimator {font-family: monospace;background-color: #f0f8ff;border: 1px dotted black;border-radius: 0.25em;box-sizing: border-box;margin-bottom: 0.5em;}#sk-container-id-2 div.sk-estimator:hover {background-color: #d4ebff;}#sk-container-id-2 div.sk-parallel-item::after {content: \"\";width: 100%;border-bottom: 1px solid gray;flex-grow: 1;}#sk-container-id-2 div.sk-label:hover label.sk-toggleable__label {background-color: #d4ebff;}#sk-container-id-2 div.sk-serial::before {content: \"\";position: absolute;border-left: 1px solid gray;box-sizing: border-box;top: 0;bottom: 0;left: 50%;z-index: 0;}#sk-container-id-2 div.sk-serial {display: flex;flex-direction: column;align-items: center;background-color: white;padding-right: 0.2em;padding-left: 0.2em;position: relative;}#sk-container-id-2 div.sk-item {position: relative;z-index: 1;}#sk-container-id-2 div.sk-parallel {display: flex;align-items: stretch;justify-content: center;background-color: white;position: relative;}#sk-container-id-2 div.sk-item::before, #sk-container-id-2 div.sk-parallel-item::before {content: \"\";position: absolute;border-left: 1px solid gray;box-sizing: border-box;top: 0;bottom: 0;left: 50%;z-index: -1;}#sk-container-id-2 div.sk-parallel-item {display: flex;flex-direction: column;z-index: 1;position: relative;background-color: white;}#sk-container-id-2 div.sk-parallel-item:first-child::after {align-self: flex-end;width: 50%;}#sk-container-id-2 div.sk-parallel-item:last-child::after {align-self: flex-start;width: 50%;}#sk-container-id-2 div.sk-parallel-item:only-child::after {width: 0;}#sk-container-id-2 div.sk-dashed-wrapped {border: 1px dashed gray;margin: 0 0.4em 0.5em 0.4em;box-sizing: border-box;padding-bottom: 0.4em;background-color: white;}#sk-container-id-2 div.sk-label label {font-family: monospace;font-weight: bold;display: inline-block;line-height: 1.2em;}#sk-container-id-2 div.sk-label-container {text-align: center;}#sk-container-id-2 div.sk-container {/* jupyter's `normalize.less` sets `[hidden] { display: none; }` but bootstrap.min.css set `[hidden] { display: none !important; }` so we also need the `!important` here to be able to override the default hidden behavior on the sphinx rendered scikit-learn.org. See: https://github.com/scikit-learn/scikit-learn/issues/21755 */display: inline-block !important;position: relative;}#sk-container-id-2 div.sk-text-repr-fallback {display: none;}</style><div id=\"sk-container-id-2\" class=\"sk-top-container\"><div class=\"sk-text-repr-fallback\"><pre>KNeighborsClassifier(n_neighbors=10)</pre><b>In a Jupyter environment, please rerun this cell to show the HTML representation or trust the notebook. <br />On GitHub, the HTML representation is unable to render, please try loading this page with nbviewer.org.</b></div><div class=\"sk-container\" hidden><div class=\"sk-item\"><div class=\"sk-estimator sk-toggleable\"><input class=\"sk-toggleable__control sk-hidden--visually\" id=\"sk-estimator-id-2\" type=\"checkbox\" checked><label for=\"sk-estimator-id-2\" class=\"sk-toggleable__label sk-toggleable__label-arrow\">KNeighborsClassifier</label><div class=\"sk-toggleable__content\"><pre>KNeighborsClassifier(n_neighbors=10)</pre></div></div></div></div></div>"
      ],
      "text/plain": [
       "KNeighborsClassifier(n_neighbors=10)"
      ]
     },
     "execution_count": 80,
     "metadata": {},
     "output_type": "execute_result"
    }
   ],
   "source": [
    "from sklearn.neighbors import KNeighborsClassifier\n",
    "knn_model = KNeighborsClassifier(n_neighbors=10)\n",
    "knn_model.fit(X_train, y_train)"
   ]
  },
  {
   "cell_type": "code",
   "execution_count": 82,
   "id": "8e0a75e2",
   "metadata": {},
   "outputs": [],
   "source": [
    "from sklearn.metrics import confusion_matrix, classification_report"
   ]
  },
  {
   "cell_type": "code",
   "execution_count": 83,
   "id": "f10bb8ef",
   "metadata": {},
   "outputs": [
    {
     "name": "stdout",
     "output_type": "stream",
     "text": [
      "                                          precision    recall  f1-score   support\n",
      "\n",
      "                             Appartement       0.95      0.93      0.94     46644\n",
      "                              Dépendance       0.67      0.99      0.80     15672\n",
      "Local industriel. commercial ou assimilé       0.94      0.21      0.35      9926\n",
      "                                  Maison       0.96      0.98      0.97     95746\n",
      "\n",
      "                                accuracy                           0.92    167988\n",
      "                               macro avg       0.88      0.78      0.76    167988\n",
      "                            weighted avg       0.93      0.92      0.91    167988\n",
      "\n"
     ]
    },
    {
     "ename": "ValueError",
     "evalue": "Shape of passed values is (4, 4), indices imply (2, 2)",
     "output_type": "error",
     "traceback": [
      "\u001b[0;31m---------------------------------------------------------------------------\u001b[0m",
      "\u001b[0;31mValueError\u001b[0m                                Traceback (most recent call last)",
      "Cell \u001b[0;32mIn[83], line 4\u001b[0m\n\u001b[1;32m      1\u001b[0m y_pred \u001b[38;5;241m=\u001b[39m knn_model\u001b[38;5;241m.\u001b[39mpredict(X_test)\n\u001b[1;32m      2\u001b[0m \u001b[38;5;28mprint\u001b[39m(classification_report(y_test,y_pred))\n\u001b[0;32m----> 4\u001b[0m \u001b[43mpd\u001b[49m\u001b[38;5;241;43m.\u001b[39;49m\u001b[43mDataFrame\u001b[49m\u001b[43m(\u001b[49m\u001b[43mconfusion_matrix\u001b[49m\u001b[43m(\u001b[49m\u001b[43my_test\u001b[49m\u001b[43m,\u001b[49m\u001b[43my_pred\u001b[49m\u001b[43m)\u001b[49m\u001b[43m,\u001b[49m\u001b[43m \u001b[49m\u001b[43mcolumns\u001b[49m\u001b[38;5;241;43m=\u001b[39;49m\u001b[43m[\u001b[49m\u001b[38;5;124;43m'\u001b[39;49m\u001b[38;5;124;43mpred_0\u001b[39;49m\u001b[38;5;124;43m'\u001b[39;49m\u001b[43m,\u001b[49m\u001b[38;5;124;43m'\u001b[39;49m\u001b[38;5;124;43mpred_1\u001b[39;49m\u001b[38;5;124;43m'\u001b[39;49m\u001b[43m]\u001b[49m\u001b[43m,\u001b[49m\u001b[43m \u001b[49m\u001b[43mindex\u001b[49m\u001b[38;5;241;43m=\u001b[39;49m\u001b[43m[\u001b[49m\u001b[38;5;124;43m'\u001b[39;49m\u001b[38;5;124;43mobs_0\u001b[39;49m\u001b[38;5;124;43m'\u001b[39;49m\u001b[43m,\u001b[49m\u001b[38;5;124;43m'\u001b[39;49m\u001b[38;5;124;43mobs_1\u001b[39;49m\u001b[38;5;124;43m'\u001b[39;49m\u001b[43m]\u001b[49m\u001b[43m)\u001b[49m\n",
      "File \u001b[0;32m/opt/anaconda3/lib/python3.8/site-packages/pandas/core/frame.py:722\u001b[0m, in \u001b[0;36mDataFrame.__init__\u001b[0;34m(self, data, index, columns, dtype, copy)\u001b[0m\n\u001b[1;32m    712\u001b[0m         mgr \u001b[38;5;241m=\u001b[39m dict_to_mgr(\n\u001b[1;32m    713\u001b[0m             \u001b[38;5;66;03m# error: Item \"ndarray\" of \"Union[ndarray, Series, Index]\" has no\u001b[39;00m\n\u001b[1;32m    714\u001b[0m             \u001b[38;5;66;03m# attribute \"name\"\u001b[39;00m\n\u001b[0;32m   (...)\u001b[0m\n\u001b[1;32m    719\u001b[0m             typ\u001b[38;5;241m=\u001b[39mmanager,\n\u001b[1;32m    720\u001b[0m         )\n\u001b[1;32m    721\u001b[0m     \u001b[38;5;28;01melse\u001b[39;00m:\n\u001b[0;32m--> 722\u001b[0m         mgr \u001b[38;5;241m=\u001b[39m \u001b[43mndarray_to_mgr\u001b[49m\u001b[43m(\u001b[49m\n\u001b[1;32m    723\u001b[0m \u001b[43m            \u001b[49m\u001b[43mdata\u001b[49m\u001b[43m,\u001b[49m\n\u001b[1;32m    724\u001b[0m \u001b[43m            \u001b[49m\u001b[43mindex\u001b[49m\u001b[43m,\u001b[49m\n\u001b[1;32m    725\u001b[0m \u001b[43m            \u001b[49m\u001b[43mcolumns\u001b[49m\u001b[43m,\u001b[49m\n\u001b[1;32m    726\u001b[0m \u001b[43m            \u001b[49m\u001b[43mdtype\u001b[49m\u001b[38;5;241;43m=\u001b[39;49m\u001b[43mdtype\u001b[49m\u001b[43m,\u001b[49m\n\u001b[1;32m    727\u001b[0m \u001b[43m            \u001b[49m\u001b[43mcopy\u001b[49m\u001b[38;5;241;43m=\u001b[39;49m\u001b[43mcopy\u001b[49m\u001b[43m,\u001b[49m\n\u001b[1;32m    728\u001b[0m \u001b[43m            \u001b[49m\u001b[43mtyp\u001b[49m\u001b[38;5;241;43m=\u001b[39;49m\u001b[43mmanager\u001b[49m\u001b[43m,\u001b[49m\n\u001b[1;32m    729\u001b[0m \u001b[43m        \u001b[49m\u001b[43m)\u001b[49m\n\u001b[1;32m    731\u001b[0m \u001b[38;5;66;03m# For data is list-like, or Iterable (will consume into list)\u001b[39;00m\n\u001b[1;32m    732\u001b[0m \u001b[38;5;28;01melif\u001b[39;00m is_list_like(data):\n",
      "File \u001b[0;32m/opt/anaconda3/lib/python3.8/site-packages/pandas/core/internals/construction.py:349\u001b[0m, in \u001b[0;36mndarray_to_mgr\u001b[0;34m(values, index, columns, dtype, copy, typ)\u001b[0m\n\u001b[1;32m    344\u001b[0m \u001b[38;5;66;03m# _prep_ndarraylike ensures that values.ndim == 2 at this point\u001b[39;00m\n\u001b[1;32m    345\u001b[0m index, columns \u001b[38;5;241m=\u001b[39m _get_axes(\n\u001b[1;32m    346\u001b[0m     values\u001b[38;5;241m.\u001b[39mshape[\u001b[38;5;241m0\u001b[39m], values\u001b[38;5;241m.\u001b[39mshape[\u001b[38;5;241m1\u001b[39m], index\u001b[38;5;241m=\u001b[39mindex, columns\u001b[38;5;241m=\u001b[39mcolumns\n\u001b[1;32m    347\u001b[0m )\n\u001b[0;32m--> 349\u001b[0m \u001b[43m_check_values_indices_shape_match\u001b[49m\u001b[43m(\u001b[49m\u001b[43mvalues\u001b[49m\u001b[43m,\u001b[49m\u001b[43m \u001b[49m\u001b[43mindex\u001b[49m\u001b[43m,\u001b[49m\u001b[43m \u001b[49m\u001b[43mcolumns\u001b[49m\u001b[43m)\u001b[49m\n\u001b[1;32m    351\u001b[0m \u001b[38;5;28;01mif\u001b[39;00m typ \u001b[38;5;241m==\u001b[39m \u001b[38;5;124m\"\u001b[39m\u001b[38;5;124marray\u001b[39m\u001b[38;5;124m\"\u001b[39m:\n\u001b[1;32m    353\u001b[0m     \u001b[38;5;28;01mif\u001b[39;00m \u001b[38;5;28missubclass\u001b[39m(values\u001b[38;5;241m.\u001b[39mdtype\u001b[38;5;241m.\u001b[39mtype, \u001b[38;5;28mstr\u001b[39m):\n",
      "File \u001b[0;32m/opt/anaconda3/lib/python3.8/site-packages/pandas/core/internals/construction.py:420\u001b[0m, in \u001b[0;36m_check_values_indices_shape_match\u001b[0;34m(values, index, columns)\u001b[0m\n\u001b[1;32m    418\u001b[0m passed \u001b[38;5;241m=\u001b[39m values\u001b[38;5;241m.\u001b[39mshape\n\u001b[1;32m    419\u001b[0m implied \u001b[38;5;241m=\u001b[39m (\u001b[38;5;28mlen\u001b[39m(index), \u001b[38;5;28mlen\u001b[39m(columns))\n\u001b[0;32m--> 420\u001b[0m \u001b[38;5;28;01mraise\u001b[39;00m \u001b[38;5;167;01mValueError\u001b[39;00m(\u001b[38;5;124mf\u001b[39m\u001b[38;5;124m\"\u001b[39m\u001b[38;5;124mShape of passed values is \u001b[39m\u001b[38;5;132;01m{\u001b[39;00mpassed\u001b[38;5;132;01m}\u001b[39;00m\u001b[38;5;124m, indices imply \u001b[39m\u001b[38;5;132;01m{\u001b[39;00mimplied\u001b[38;5;132;01m}\u001b[39;00m\u001b[38;5;124m\"\u001b[39m)\n",
      "\u001b[0;31mValueError\u001b[0m: Shape of passed values is (4, 4), indices imply (2, 2)"
     ]
    }
   ],
   "source": [
    "y_pred = knn_model.predict(X_test)\n",
    "print(classification_report(y_test,y_pred))"
   ]
  },
  {
   "cell_type": "code",
   "execution_count": 84,
   "id": "0ad7c1c8",
   "metadata": {},
   "outputs": [
    {
     "data": {
      "text/html": [
       "<div>\n",
       "<style scoped>\n",
       "    .dataframe tbody tr th:only-of-type {\n",
       "        vertical-align: middle;\n",
       "    }\n",
       "\n",
       "    .dataframe tbody tr th {\n",
       "        vertical-align: top;\n",
       "    }\n",
       "\n",
       "    .dataframe thead th {\n",
       "        text-align: right;\n",
       "    }\n",
       "</style>\n",
       "<table border=\"1\" class=\"dataframe\">\n",
       "  <thead>\n",
       "    <tr style=\"text-align: right;\">\n",
       "      <th></th>\n",
       "      <th>pred_0</th>\n",
       "      <th>pred_1</th>\n",
       "      <th>pred_2</th>\n",
       "      <th>pred_3</th>\n",
       "    </tr>\n",
       "  </thead>\n",
       "  <tbody>\n",
       "    <tr>\n",
       "      <th>obs_0</th>\n",
       "      <td>43224</td>\n",
       "      <td>56</td>\n",
       "      <td>18</td>\n",
       "      <td>3346</td>\n",
       "    </tr>\n",
       "    <tr>\n",
       "      <th>obs_1</th>\n",
       "      <td>1</td>\n",
       "      <td>15555</td>\n",
       "      <td>116</td>\n",
       "      <td>0</td>\n",
       "    </tr>\n",
       "    <tr>\n",
       "      <th>obs_2</th>\n",
       "      <td>4</td>\n",
       "      <td>7642</td>\n",
       "      <td>2099</td>\n",
       "      <td>181</td>\n",
       "    </tr>\n",
       "    <tr>\n",
       "      <th>obs_3</th>\n",
       "      <td>2198</td>\n",
       "      <td>96</td>\n",
       "      <td>1</td>\n",
       "      <td>93451</td>\n",
       "    </tr>\n",
       "  </tbody>\n",
       "</table>\n",
       "</div>"
      ],
      "text/plain": [
       "       pred_0  pred_1  pred_2  pred_3\n",
       "obs_0   43224      56      18    3346\n",
       "obs_1       1   15555     116       0\n",
       "obs_2       4    7642    2099     181\n",
       "obs_3    2198      96       1   93451"
      ]
     },
     "execution_count": 84,
     "metadata": {},
     "output_type": "execute_result"
    }
   ],
   "source": [
    "pd.DataFrame(confusion_matrix(y_test,y_pred), columns=['pred_0','pred_1','pred_2','pred_3'], index=['obs_0','obs_1','obs_2','obs_3'])"
   ]
  },
  {
   "cell_type": "code",
   "execution_count": null,
   "id": "d2aa7778",
   "metadata": {},
   "outputs": [],
   "source": [
    "#Avec Gridsearch"
   ]
  },
  {
   "cell_type": "code",
   "execution_count": 85,
   "id": "610e1e77",
   "metadata": {},
   "outputs": [],
   "source": [
    "from sklearn.metrics import make_scorer"
   ]
  },
  {
   "cell_type": "code",
   "execution_count": 86,
   "id": "47474e66",
   "metadata": {},
   "outputs": [
    {
     "ename": "NameError",
     "evalue": "name 'alerteCombinaison' is not defined",
     "output_type": "error",
     "traceback": [
      "\u001b[0;31m---------------------------------------------------------------------------\u001b[0m",
      "\u001b[0;31mNameError\u001b[0m                                 Traceback (most recent call last)",
      "Cell \u001b[0;32mIn[86], line 2\u001b[0m\n\u001b[1;32m      1\u001b[0m parameters \u001b[38;5;241m=\u001b[39m {\u001b[38;5;124m'\u001b[39m\u001b[38;5;124mn_neighbors\u001b[39m\u001b[38;5;124m'\u001b[39m : np\u001b[38;5;241m.\u001b[39marange(\u001b[38;5;241m2\u001b[39m,\u001b[38;5;241m5\u001b[39m,\u001b[38;5;241m1\u001b[39m)}\n\u001b[0;32m----> 2\u001b[0m \u001b[38;5;28mprint\u001b[39m(\u001b[43malerteCombinaison\u001b[49m(parameters))\n\u001b[1;32m      4\u001b[0m knn \u001b[38;5;241m=\u001b[39m KNeighborsClassifier()\n\u001b[1;32m      7\u001b[0m f1_scorer \u001b[38;5;241m=\u001b[39m make_scorer(f1_score)\n",
      "\u001b[0;31mNameError\u001b[0m: name 'alerteCombinaison' is not defined"
     ]
    }
   ],
   "source": [
    "\n",
    "parameters = {'n_neighbors' : np.arange(2,5,1)}\n",
    "print(alerteCombinaison(parameters))\n",
    "\n",
    "knn = KNeighborsClassifier()\n",
    "\n",
    "\n",
    "f1_scorer = make_scorer(f1_score)\n",
    "knn_model = GridSearchCV(knn, parameters, scoring = f1_scorer,\n",
    "                   cv = ShuffleSplit(test_size=0.30, n_splits=1,\n",
    "                                     random_state=0), verbose=1)\n",
    "knn_model.fit(X_train, y_train )"
   ]
  },
  {
   "cell_type": "markdown",
   "id": "446a9ccc",
   "metadata": {},
   "source": [
    "# Stats Descriptives"
   ]
  },
  {
   "cell_type": "code",
   "execution_count": null,
   "id": "7731e0ff",
   "metadata": {},
   "outputs": [],
   "source": [
    "#Décrire le nombre de vente en 2018: 1 ligne= 1 vente, donc 705820 ventes en 2018\n",
    "#La moyenne de prix des ventes en 2018 est de 3.063606e+05\n",
    "print(data_2018_new[\"Valeur fonciere\"].describe())"
   ]
  },
  {
   "cell_type": "code",
   "execution_count": 92,
   "id": "21a8dec9",
   "metadata": {},
   "outputs": [
    {
     "data": {
      "text/plain": [
       "Maison                                      328671\n",
       "Appartement                                 208406\n",
       "Dépendance                                   86042\n",
       "Local industriel. commercial ou assimilé     34679\n",
       "Name: Type local, dtype: int64"
      ]
     },
     "execution_count": 92,
     "metadata": {},
     "output_type": "execute_result"
    }
   ],
   "source": [
    "data_2018_new[\"Type local\"].value_counts()"
   ]
  },
  {
   "cell_type": "code",
   "execution_count": 93,
   "id": "8e7fde7e",
   "metadata": {},
   "outputs": [
    {
     "data": {
      "text/plain": [
       "1.0    328671\n",
       "2.0    208406\n",
       "3.0     86042\n",
       "4.0     34679\n",
       "Name: Code type local, dtype: int64"
      ]
     },
     "execution_count": 93,
     "metadata": {},
     "output_type": "execute_result"
    }
   ],
   "source": [
    "data_2018_new[\"Code type local\"].value_counts()"
   ]
  },
  {
   "cell_type": "code",
   "execution_count": 96,
   "id": "56dacdd2",
   "metadata": {},
   "outputs": [],
   "source": [
    "data_2018_new['Code type local']= data_2018_new['Code type local'].astype(object)"
   ]
  },
  {
   "cell_type": "code",
   "execution_count": 98,
   "id": "a73a6fd0",
   "metadata": {},
   "outputs": [
    {
     "data": {
      "text/plain": [
       "1.0    328671\n",
       "2.0    208406\n",
       "3.0     86042\n",
       "4.0     34679\n",
       "Name: Code type local, dtype: int64"
      ]
     },
     "execution_count": 98,
     "metadata": {},
     "output_type": "execute_result"
    }
   ],
   "source": [
    "data_2018_new[\"Code type local\"].value_counts()"
   ]
  },
  {
   "cell_type": "code",
   "execution_count": 104,
   "id": "b44cf203",
   "metadata": {},
   "outputs": [
    {
     "data": {
      "text/plain": [
       "(0.0, 1000000000.0)"
      ]
     },
     "execution_count": 104,
     "metadata": {},
     "output_type": "execute_result"
    },
    {
     "data": {
      "image/png": "[encoded data removed]",
      "text/plain": [
       "<Figure size 640x480 with 1 Axes>"
      ]
     },
     "metadata": {},
     "output_type": "display_data"
    }
   ],
   "source": [
    "data_2018_new.hist(column='Valeur fonciere')\n",
    "plt.xlim(0.0,1000000000)"
   ]
  },
  {
   "cell_type": "code",
   "execution_count": 107,
   "id": "76ca13b1",
   "metadata": {},
   "outputs": [
    {
     "data": {
      "text/plain": [
       "array([[<Axes: title={'center': 'Appartement'}>,\n",
       "        <Axes: title={'center': 'Dépendance'}>],\n",
       "       [<Axes: title={'center': 'Local industriel. commercial ou assimilé'}>,\n",
       "        <Axes: title={'center': 'Maison'}>]], dtype=object)"
      ]
     },
     "execution_count": 107,
     "metadata": {},
     "output_type": "execute_result"
    },
    {
     "data": {
      "image/png": "[encoded data removed]",
      "text/plain": [
       "<Figure size 640x480 with 4 Axes>"
      ]
     },
     "metadata": {},
     "output_type": "display_data"
    }
   ],
   "source": [
    "data_2018_new.hist(column=\"Valeur fonciere\", by='Type local')"
   ]
  },
  {
   "cell_type": "code",
   "execution_count": 92,
   "id": "59edda82",
   "metadata": {},
   "outputs": [
    {
     "data": {
      "text/plain": [
       "[<matplotlib.lines.Line2D at 0x7faa9e3c53d0>]"
      ]
     },
     "execution_count": 92,
     "metadata": {},
     "output_type": "execute_result"
    },
    {
     "data": {
      "image/png": "[encoded data removed]",
      "text/plain": [
       "<Figure size 640x480 with 1 Axes>"
      ]
     },
     "metadata": {},
     "output_type": "display_data"
    }
   ],
   "source": [
    "plt.plot(moyenne_valeur_fonciere_par_mois.index,moyenne_valeur_fonciere_par_mois.values, marker='o',linestyle='-')"
   ]
  },
  {
   "cell_type": "code",
   "execution_count": null,
   "id": "db84c2fe",
   "metadata": {},
   "outputs": [],
   "source": [
    "#graphe qui n'a pas vraiment de sens car les types de logements sont mélangés, donc les prix peuvent beaucoup varier. ICI n= 1000 il faudrait augmenter l'échantillon à 10000 voir tout le fichier.\n",
    "#Faire le graphe nombre de vente au cours des mois "
   ]
  },
  {
   "cell_type": "code",
   "execution_count": 93,
   "id": "7652627c",
   "metadata": {},
   "outputs": [],
   "source": [
    "ventes_par_mois= data.groupby('mois').size()"
   ]
  },
  {
   "cell_type": "code",
   "execution_count": 94,
   "id": "0013e52c",
   "metadata": {},
   "outputs": [
    {
     "name": "stdout",
     "output_type": "stream",
     "text": [
      "mois\n",
      "1     416\n",
      "2     216\n",
      "3      10\n",
      "4      24\n",
      "5      69\n",
      "6      16\n",
      "7      15\n",
      "8      58\n",
      "9      70\n",
      "10     29\n",
      "11     27\n",
      "12     50\n",
      "dtype: int64\n"
     ]
    }
   ],
   "source": [
    "print(ventes_par_mois)"
   ]
  },
  {
   "cell_type": "code",
   "execution_count": 96,
   "id": "970f1898",
   "metadata": {},
   "outputs": [
    {
     "data": {
      "text/plain": [
       "([<matplotlib.axis.XTick at 0x7faa9d0789d0>,\n",
       "  <matplotlib.axis.XTick at 0x7faa9d078880>,\n",
       "  <matplotlib.axis.XTick at 0x7faa9e05d250>,\n",
       "  <matplotlib.axis.XTick at 0x7faa9e5ce940>,\n",
       "  <matplotlib.axis.XTick at 0x7faa9d964c10>,\n",
       "  <matplotlib.axis.XTick at 0x7faa9d9642e0>,\n",
       "  <matplotlib.axis.XTick at 0x7faa9d95cc10>,\n",
       "  <matplotlib.axis.XTick at 0x7faa9d7c0700>,\n",
       "  <matplotlib.axis.XTick at 0x7faa9d7c0f70>,\n",
       "  <matplotlib.axis.XTick at 0x7faa9d7fdca0>,\n",
       "  <matplotlib.axis.XTick at 0x7faa9d95c4f0>,\n",
       "  <matplotlib.axis.XTick at 0x7faa9d7cd5e0>],\n",
       " [Text(1, 0, 'Jan'),\n",
       "  Text(2, 0, 'Fév'),\n",
       "  Text(3, 0, 'Mar'),\n",
       "  Text(4, 0, 'Avr'),\n",
       "  Text(5, 0, 'Mai'),\n",
       "  Text(6, 0, 'Juin'),\n",
       "  Text(7, 0, 'Juil'),\n",
       "  Text(8, 0, 'Août'),\n",
       "  Text(9, 0, 'Sep'),\n",
       "  Text(10, 0, 'Oct'),\n",
       "  Text(11, 0, 'Nov'),\n",
       "  Text(12, 0, 'Déc')])"
      ]
     },
     "execution_count": 96,
     "metadata": {},
     "output_type": "execute_result"
    },
    {
     "data": {
      "image/png": "[encoded data removed]",
      "text/plain": [
       "<Figure size 640x480 with 1 Axes>"
      ]
     },
     "metadata": {},
     "output_type": "display_data"
    }
   ],
   "source": [
    "plt.plot(ventes_par_mois.index,ventes_par_mois.values, marker='o',linestyle='-')\n",
    "plt.title('Nombre moyen de ventes par mois')\n",
    "plt.xlabel('Mois')\n",
    "plt.xticks(range(1, 13), ['Jan', 'Fév', 'Mar', 'Avr', 'Mai', 'Juin', 'Juil', 'Août', 'Sep', 'Oct', 'Nov', 'Déc'])"
   ]
  },
  {
   "cell_type": "code",
   "execution_count": null,
   "id": "623d400e",
   "metadata": {},
   "outputs": [],
   "source": []
  }
 ],
 "metadata": {
  "kernelspec": {
   "display_name": "Python 3 (ipykernel)",
   "language": "python",
   "name": "python3"
  },
  "language_info": {
   "codemirror_mode": {
    "name": "ipython",
    "version": 3
   },
   "file_extension": ".py",
   "mimetype": "text/x-python",
   "name": "python",
   "nbconvert_exporter": "python",
   "pygments_lexer": "ipython3",
   "version": "3.8.16"
  }
 },
 "nbformat": 4,
 "nbformat_minor": 5
}
