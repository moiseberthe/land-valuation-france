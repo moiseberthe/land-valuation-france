{
 "cells": [
  {
   "cell_type": "code",
   "execution_count": 40,
   "metadata": {},
   "outputs": [],
   "source": [
    "import pandas as pd\n",
    "import seaborn as sns\n",
    "import math"
   ]
  },
  {
   "cell_type": "code",
   "execution_count": 71,
   "metadata": {},
   "outputs": [
    {
     "ename": "KeyboardInterrupt",
     "evalue": "",
     "output_type": "error",
     "traceback": [
      "\u001b[1;31m---------------------------------------------------------------------------\u001b[0m",
      "\u001b[1;31mKeyboardInterrupt\u001b[0m                         Traceback (most recent call last)",
      "Cell \u001b[1;32mIn[71], line 4\u001b[0m\n\u001b[0;32m      2\u001b[0m frames \u001b[39m=\u001b[39m []\n\u001b[0;32m      3\u001b[0m \u001b[39mfor\u001b[39;00m year \u001b[39min\u001b[39;00m years:\n\u001b[1;32m----> 4\u001b[0m     dfT \u001b[39m=\u001b[39m pd\u001b[39m.\u001b[39;49mread_csv(\u001b[39mf\u001b[39;49m\u001b[39m'\u001b[39;49m\u001b[39m./assets/data/valeursfoncieres-20\u001b[39;49m\u001b[39m{\u001b[39;49;00myear\u001b[39m}\u001b[39;49;00m\u001b[39m.txt\u001b[39;49m\u001b[39m'\u001b[39;49m, sep\u001b[39m=\u001b[39;49m\u001b[39m'\u001b[39;49m\u001b[39m|\u001b[39;49m\u001b[39m'\u001b[39;49m, decimal\u001b[39m=\u001b[39;49m\u001b[39m'\u001b[39;49m\u001b[39m,\u001b[39;49m\u001b[39m'\u001b[39;49m, low_memory\u001b[39m=\u001b[39;49m\u001b[39mFalse\u001b[39;49;00m)\n\u001b[0;32m      5\u001b[0m     pop \u001b[39m=\u001b[39m pd\u001b[39m.\u001b[39mread_excel(\u001b[39m'\u001b[39m\u001b[39m./assets/data/dep_pop.xlsx\u001b[39m\u001b[39m'\u001b[39m, sheet_name\u001b[39m=\u001b[39m\u001b[39mf\u001b[39m\u001b[39m'\u001b[39m\u001b[39m20\u001b[39m\u001b[39m'\u001b[39m\u001b[39m+\u001b[39m\u001b[39mstr\u001b[39m(year))\n\u001b[0;32m      6\u001b[0m     dfT[\u001b[39m'\u001b[39m\u001b[39mCode departement\u001b[39m\u001b[39m'\u001b[39m] \u001b[39m=\u001b[39m dfT[\u001b[39m'\u001b[39m\u001b[39mCode departement\u001b[39m\u001b[39m'\u001b[39m]\u001b[39m.\u001b[39mastype(\u001b[39m'\u001b[39m\u001b[39mstr\u001b[39m\u001b[39m'\u001b[39m)\u001b[39m.\u001b[39mstr\u001b[39m.\u001b[39mpad(\u001b[39m2\u001b[39m, side\u001b[39m=\u001b[39m\u001b[39m'\u001b[39m\u001b[39mleft\u001b[39m\u001b[39m'\u001b[39m, fillchar\u001b[39m=\u001b[39m\u001b[39m'\u001b[39m\u001b[39m0\u001b[39m\u001b[39m'\u001b[39m)\n",
      "File \u001b[1;32mc:\\Users\\naperez\\Desktop\\ml2\\ml-python\\.venv\\Lib\\site-packages\\pandas\\io\\parsers\\readers.py:948\u001b[0m, in \u001b[0;36mread_csv\u001b[1;34m(filepath_or_buffer, sep, delimiter, header, names, index_col, usecols, dtype, engine, converters, true_values, false_values, skipinitialspace, skiprows, skipfooter, nrows, na_values, keep_default_na, na_filter, verbose, skip_blank_lines, parse_dates, infer_datetime_format, keep_date_col, date_parser, date_format, dayfirst, cache_dates, iterator, chunksize, compression, thousands, decimal, lineterminator, quotechar, quoting, doublequote, escapechar, comment, encoding, encoding_errors, dialect, on_bad_lines, delim_whitespace, low_memory, memory_map, float_precision, storage_options, dtype_backend)\u001b[0m\n\u001b[0;32m    935\u001b[0m kwds_defaults \u001b[39m=\u001b[39m _refine_defaults_read(\n\u001b[0;32m    936\u001b[0m     dialect,\n\u001b[0;32m    937\u001b[0m     delimiter,\n\u001b[1;32m   (...)\u001b[0m\n\u001b[0;32m    944\u001b[0m     dtype_backend\u001b[39m=\u001b[39mdtype_backend,\n\u001b[0;32m    945\u001b[0m )\n\u001b[0;32m    946\u001b[0m kwds\u001b[39m.\u001b[39mupdate(kwds_defaults)\n\u001b[1;32m--> 948\u001b[0m \u001b[39mreturn\u001b[39;00m _read(filepath_or_buffer, kwds)\n",
      "File \u001b[1;32mc:\\Users\\naperez\\Desktop\\ml2\\ml-python\\.venv\\Lib\\site-packages\\pandas\\io\\parsers\\readers.py:617\u001b[0m, in \u001b[0;36m_read\u001b[1;34m(filepath_or_buffer, kwds)\u001b[0m\n\u001b[0;32m    614\u001b[0m     \u001b[39mreturn\u001b[39;00m parser\n\u001b[0;32m    616\u001b[0m \u001b[39mwith\u001b[39;00m parser:\n\u001b[1;32m--> 617\u001b[0m     \u001b[39mreturn\u001b[39;00m parser\u001b[39m.\u001b[39;49mread(nrows)\n",
      "File \u001b[1;32mc:\\Users\\naperez\\Desktop\\ml2\\ml-python\\.venv\\Lib\\site-packages\\pandas\\io\\parsers\\readers.py:1748\u001b[0m, in \u001b[0;36mTextFileReader.read\u001b[1;34m(self, nrows)\u001b[0m\n\u001b[0;32m   1741\u001b[0m nrows \u001b[39m=\u001b[39m validate_integer(\u001b[39m\"\u001b[39m\u001b[39mnrows\u001b[39m\u001b[39m\"\u001b[39m, nrows)\n\u001b[0;32m   1742\u001b[0m \u001b[39mtry\u001b[39;00m:\n\u001b[0;32m   1743\u001b[0m     \u001b[39m# error: \"ParserBase\" has no attribute \"read\"\u001b[39;00m\n\u001b[0;32m   1744\u001b[0m     (\n\u001b[0;32m   1745\u001b[0m         index,\n\u001b[0;32m   1746\u001b[0m         columns,\n\u001b[0;32m   1747\u001b[0m         col_dict,\n\u001b[1;32m-> 1748\u001b[0m     ) \u001b[39m=\u001b[39m \u001b[39mself\u001b[39;49m\u001b[39m.\u001b[39;49m_engine\u001b[39m.\u001b[39;49mread(  \u001b[39m# type: ignore[attr-defined]\u001b[39;49;00m\n\u001b[0;32m   1749\u001b[0m         nrows\n\u001b[0;32m   1750\u001b[0m     )\n\u001b[0;32m   1751\u001b[0m \u001b[39mexcept\u001b[39;00m \u001b[39mException\u001b[39;00m:\n\u001b[0;32m   1752\u001b[0m     \u001b[39mself\u001b[39m\u001b[39m.\u001b[39mclose()\n",
      "File \u001b[1;32mc:\\Users\\naperez\\Desktop\\ml2\\ml-python\\.venv\\Lib\\site-packages\\pandas\\io\\parsers\\c_parser_wrapper.py:239\u001b[0m, in \u001b[0;36mCParserWrapper.read\u001b[1;34m(self, nrows)\u001b[0m\n\u001b[0;32m    236\u001b[0m         data \u001b[39m=\u001b[39m _concatenate_chunks(chunks)\n\u001b[0;32m    238\u001b[0m     \u001b[39melse\u001b[39;00m:\n\u001b[1;32m--> 239\u001b[0m         data \u001b[39m=\u001b[39m \u001b[39mself\u001b[39;49m\u001b[39m.\u001b[39;49m_reader\u001b[39m.\u001b[39;49mread(nrows)\n\u001b[0;32m    240\u001b[0m \u001b[39mexcept\u001b[39;00m \u001b[39mStopIteration\u001b[39;00m:\n\u001b[0;32m    241\u001b[0m     \u001b[39mif\u001b[39;00m \u001b[39mself\u001b[39m\u001b[39m.\u001b[39m_first_chunk:\n",
      "File \u001b[1;32mparsers.pyx:825\u001b[0m, in \u001b[0;36mpandas._libs.parsers.TextReader.read\u001b[1;34m()\u001b[0m\n",
      "File \u001b[1;32mparsers.pyx:920\u001b[0m, in \u001b[0;36mpandas._libs.parsers.TextReader._read_rows\u001b[1;34m()\u001b[0m\n",
      "File \u001b[1;32mparsers.pyx:1082\u001b[0m, in \u001b[0;36mpandas._libs.parsers.TextReader._convert_column_data\u001b[1;34m()\u001b[0m\n",
      "File \u001b[1;32mparsers.pyx:1455\u001b[0m, in \u001b[0;36mpandas._libs.parsers._maybe_upcast\u001b[1;34m()\u001b[0m\n",
      "File \u001b[1;32mc:\\Users\\naperez\\Desktop\\ml2\\ml-python\\.venv\\Lib\\site-packages\\numpy\\core\\multiarray.py:1131\u001b[0m, in \u001b[0;36mputmask\u001b[1;34m(a, mask, values)\u001b[0m\n\u001b[0;32m   1082\u001b[0m \u001b[39m    \u001b[39m\u001b[39m\"\"\"\u001b[39;00m\n\u001b[0;32m   1083\u001b[0m \u001b[39m    copyto(dst, src, casting='same_kind', where=True)\u001b[39;00m\n\u001b[0;32m   1084\u001b[0m \n\u001b[1;32m   (...)\u001b[0m\n\u001b[0;32m   1126\u001b[0m \n\u001b[0;32m   1127\u001b[0m \u001b[39m    \"\"\"\u001b[39;00m\n\u001b[0;32m   1128\u001b[0m     \u001b[39mreturn\u001b[39;00m (dst, src, where)\n\u001b[1;32m-> 1131\u001b[0m \u001b[39m@array_function_from_c_func_and_dispatcher\u001b[39m(_multiarray_umath\u001b[39m.\u001b[39mputmask)\n\u001b[0;32m   1132\u001b[0m \u001b[39mdef\u001b[39;00m \u001b[39mputmask\u001b[39m(a, \u001b[39m/\u001b[39m, mask, values):\n\u001b[0;32m   1133\u001b[0m \u001b[39m    \u001b[39m\u001b[39m\"\"\"\u001b[39;00m\n\u001b[0;32m   1134\u001b[0m \u001b[39m    putmask(a, mask, values)\u001b[39;00m\n\u001b[0;32m   1135\u001b[0m \n\u001b[1;32m   (...)\u001b[0m\n\u001b[0;32m   1171\u001b[0m \n\u001b[0;32m   1172\u001b[0m \u001b[39m    \"\"\"\u001b[39;00m\n\u001b[0;32m   1173\u001b[0m     \u001b[39mreturn\u001b[39;00m (a, mask, values)\n",
      "\u001b[1;31mKeyboardInterrupt\u001b[0m: "
     ]
    }
   ],
   "source": [
    "years = [18,19,20,21]\n",
    "frames = []\n",
    "for year in years:\n",
    "    dfT = pd.read_csv(f'./assets/data/valeursfoncieres-20{year}.txt', sep='|', decimal=',', low_memory=False)\n",
    "    pop = pd.read_excel('./assets/data/dep_pop.xlsx', sheet_name=f'20'+str(year))\n",
    "    dfT['Code departement'] = dfT['Code departement'].astype('str').str.pad(2, side='left', fillchar='0')\n",
    "    frames.append(\n",
    "        dfT.merge(pop, how='left', left_on='Code departement', right_on='code_departement')\n",
    "    )\n",
    "df = pd.concat(frames)\n",
    "sDF = df.copy()\n",
    "df.shape"
   ]
  },
  {
   "cell_type": "code",
   "execution_count": 30,
   "metadata": {},
   "outputs": [
    {
     "data": {
      "text/plain": [
       "(3720954, 47)"
      ]
     },
     "execution_count": 30,
     "metadata": {},
     "output_type": "execute_result"
    }
   ],
   "source": [
    "df['key'] = df['Date mutation'].astype('str') + df['Type de voie'].astype('str') + df['Voie'].astype('str') + df['Code postal'].astype('str')\n",
    "df = df.groupby('key').filter(lambda x : len(x) == 1)\n",
    "df.shape"
   ]
  },
  {
   "cell_type": "code",
   "execution_count": null,
   "metadata": {},
   "outputs": [],
   "source": [
    "df[\"Nature mutation\"].info()"
   ]
  },
  {
   "cell_type": "code",
   "execution_count": 31,
   "metadata": {},
   "outputs": [],
   "source": [
    "df = df[df['Valeur fonciere'] > 1]"
   ]
  },
  {
   "cell_type": "code",
   "execution_count": 69,
   "metadata": {},
   "outputs": [],
   "source": [
    "df.to_csv(\"./assets/data/df.csv\", sep=\"|\")"
   ]
  },
  {
   "cell_type": "code",
   "execution_count": 59,
   "metadata": {},
   "outputs": [],
   "source": [
    "df = pd.read_csv(f'../assets/data/df.csv', sep='|', low_memory=False)\n"
   ]
  },
  {
   "cell_type": "code",
   "execution_count": 221,
   "metadata": {},
   "outputs": [],
   "source": [
    "dataf= df.copy()\n",
    "df = dataf.copy()"
   ]
  },
  {
   "cell_type": "code",
   "execution_count": 222,
   "metadata": {},
   "outputs": [
    {
     "name": "stdout",
     "output_type": "stream",
     "text": [
      "<class 'pandas.core.frame.DataFrame'>\n",
      "Index: 3561121 entries, 0 to 3676921\n",
      "Data columns (total 48 columns):\n",
      " #   Column                      Dtype  \n",
      "---  ------                      -----  \n",
      " 0   Unnamed: 0                  int64  \n",
      " 1   Identifiant de document     float64\n",
      " 2   Reference document          float64\n",
      " 3   1 Articles CGI              float64\n",
      " 4   2 Articles CGI              float64\n",
      " 5   3 Articles CGI              float64\n",
      " 6   4 Articles CGI              float64\n",
      " 7   5 Articles CGI              float64\n",
      " 8   No disposition              int64  \n",
      " 9   Date mutation               object \n",
      " 10  Nature mutation             object \n",
      " 11  Valeur fonciere             float64\n",
      " 12  No voie                     float64\n",
      " 13  B/T/Q                       object \n",
      " 14  Type de voie                object \n",
      " 15  Code voie                   object \n",
      " 16  Voie                        object \n",
      " 17  Code postal                 float64\n",
      " 18  Commune                     object \n",
      " 19  Code departement            object \n",
      " 20  Code commune                int64  \n",
      " 21  Prefixe de section          float64\n",
      " 22  Section                     object \n",
      " 23  No plan                     int64  \n",
      " 24  No Volume                   object \n",
      " 25  1er lot                     object \n",
      " 26  Surface Carrez du 1er lot   float64\n",
      " 27  2eme lot                    object \n",
      " 28  Surface Carrez du 2eme lot  float64\n",
      " 29  3eme lot                    object \n",
      " 30  Surface Carrez du 3eme lot  float64\n",
      " 31  4eme lot                    object \n",
      " 32  Surface Carrez du 4eme lot  float64\n",
      " 33  5eme lot                    object \n",
      " 34  Surface Carrez du 5eme lot  float64\n",
      " 35  Nombre de lots              int64  \n",
      " 36  Code type local             float64\n",
      " 37  Type local                  object \n",
      " 38  Identifiant local           float64\n",
      " 39  Surface reelle bati         float64\n",
      " 40  Nombre pieces principales   float64\n",
      " 41  Nature culture              object \n",
      " 42  Nature culture speciale     object \n",
      " 43  Surface terrain             float64\n",
      " 44  code_departement            object \n",
      " 45  departement                 object \n",
      " 46  total                       float64\n",
      " 47  key                         object \n",
      "dtypes: float64(22), int64(5), object(21)\n",
      "memory usage: 1.3+ GB\n"
     ]
    }
   ],
   "source": [
    "df.info()"
   ]
  },
  {
   "cell_type": "code",
   "execution_count": 223,
   "metadata": {},
   "outputs": [
    {
     "data": {
      "text/plain": [
       "Nature mutation\n",
       "Vente    3561121\n",
       "Name: count, dtype: int64"
      ]
     },
     "execution_count": 223,
     "metadata": {},
     "output_type": "execute_result"
    }
   ],
   "source": [
    "df[\"Nature mutation\"].value_counts()"
   ]
  },
  {
   "cell_type": "code",
   "execution_count": 224,
   "metadata": {},
   "outputs": [
    {
     "data": {
      "text/html": [
       "<div>\n",
       "<style scoped>\n",
       "    .dataframe tbody tr th:only-of-type {\n",
       "        vertical-align: middle;\n",
       "    }\n",
       "\n",
       "    .dataframe tbody tr th {\n",
       "        vertical-align: top;\n",
       "    }\n",
       "\n",
       "    .dataframe thead th {\n",
       "        text-align: right;\n",
       "    }\n",
       "</style>\n",
       "<table border=\"1\" class=\"dataframe\">\n",
       "  <thead>\n",
       "    <tr style=\"text-align: right;\">\n",
       "      <th></th>\n",
       "      <th>Unnamed: 0</th>\n",
       "      <th>Identifiant de document</th>\n",
       "      <th>Reference document</th>\n",
       "      <th>1 Articles CGI</th>\n",
       "      <th>2 Articles CGI</th>\n",
       "      <th>3 Articles CGI</th>\n",
       "      <th>4 Articles CGI</th>\n",
       "      <th>5 Articles CGI</th>\n",
       "      <th>No disposition</th>\n",
       "      <th>Date mutation</th>\n",
       "      <th>...</th>\n",
       "      <th>Identifiant local</th>\n",
       "      <th>Surface reelle bati</th>\n",
       "      <th>Nombre pieces principales</th>\n",
       "      <th>Nature culture</th>\n",
       "      <th>Nature culture speciale</th>\n",
       "      <th>Surface terrain</th>\n",
       "      <th>code_departement</th>\n",
       "      <th>departement</th>\n",
       "      <th>total</th>\n",
       "      <th>key</th>\n",
       "    </tr>\n",
       "  </thead>\n",
       "  <tbody>\n",
       "    <tr>\n",
       "      <th>0</th>\n",
       "      <td>9</td>\n",
       "      <td>NaN</td>\n",
       "      <td>NaN</td>\n",
       "      <td>NaN</td>\n",
       "      <td>NaN</td>\n",
       "      <td>NaN</td>\n",
       "      <td>NaN</td>\n",
       "      <td>NaN</td>\n",
       "      <td>2</td>\n",
       "      <td>10/01/2018</td>\n",
       "      <td>...</td>\n",
       "      <td>NaN</td>\n",
       "      <td>NaN</td>\n",
       "      <td>NaN</td>\n",
       "      <td>S</td>\n",
       "      <td>NaN</td>\n",
       "      <td>126.0</td>\n",
       "      <td>01</td>\n",
       "      <td>Ain</td>\n",
       "      <td>647634.0</td>\n",
       "      <td>10/01/2018nanPONT D AIN1160.0</td>\n",
       "    </tr>\n",
       "    <tr>\n",
       "      <th>1</th>\n",
       "      <td>10</td>\n",
       "      <td>NaN</td>\n",
       "      <td>NaN</td>\n",
       "      <td>NaN</td>\n",
       "      <td>NaN</td>\n",
       "      <td>NaN</td>\n",
       "      <td>NaN</td>\n",
       "      <td>NaN</td>\n",
       "      <td>2</td>\n",
       "      <td>12/01/2018</td>\n",
       "      <td>...</td>\n",
       "      <td>NaN</td>\n",
       "      <td>NaN</td>\n",
       "      <td>NaN</td>\n",
       "      <td>BT</td>\n",
       "      <td>NaN</td>\n",
       "      <td>197.0</td>\n",
       "      <td>01</td>\n",
       "      <td>Ain</td>\n",
       "      <td>647634.0</td>\n",
       "      <td>12/01/2018nanSOUS LE BOIS GIROUD1250.0</td>\n",
       "    </tr>\n",
       "    <tr>\n",
       "      <th>2</th>\n",
       "      <td>11</td>\n",
       "      <td>NaN</td>\n",
       "      <td>NaN</td>\n",
       "      <td>NaN</td>\n",
       "      <td>NaN</td>\n",
       "      <td>NaN</td>\n",
       "      <td>NaN</td>\n",
       "      <td>NaN</td>\n",
       "      <td>1</td>\n",
       "      <td>04/01/2018</td>\n",
       "      <td>...</td>\n",
       "      <td>NaN</td>\n",
       "      <td>45.0</td>\n",
       "      <td>1.0</td>\n",
       "      <td>NaN</td>\n",
       "      <td>NaN</td>\n",
       "      <td>NaN</td>\n",
       "      <td>01</td>\n",
       "      <td>Ain</td>\n",
       "      <td>647634.0</td>\n",
       "      <td>04/01/2018ALLDE LA PETITE REYSSOUZE1000.0</td>\n",
       "    </tr>\n",
       "    <tr>\n",
       "      <th>3</th>\n",
       "      <td>12</td>\n",
       "      <td>NaN</td>\n",
       "      <td>NaN</td>\n",
       "      <td>NaN</td>\n",
       "      <td>NaN</td>\n",
       "      <td>NaN</td>\n",
       "      <td>NaN</td>\n",
       "      <td>NaN</td>\n",
       "      <td>1</td>\n",
       "      <td>11/01/2018</td>\n",
       "      <td>...</td>\n",
       "      <td>NaN</td>\n",
       "      <td>68.0</td>\n",
       "      <td>3.0</td>\n",
       "      <td>NaN</td>\n",
       "      <td>NaN</td>\n",
       "      <td>NaN</td>\n",
       "      <td>01</td>\n",
       "      <td>Ain</td>\n",
       "      <td>647634.0</td>\n",
       "      <td>11/01/2018RUEMOLIERE1000.0</td>\n",
       "    </tr>\n",
       "    <tr>\n",
       "      <th>4</th>\n",
       "      <td>13</td>\n",
       "      <td>NaN</td>\n",
       "      <td>NaN</td>\n",
       "      <td>NaN</td>\n",
       "      <td>NaN</td>\n",
       "      <td>NaN</td>\n",
       "      <td>NaN</td>\n",
       "      <td>NaN</td>\n",
       "      <td>1</td>\n",
       "      <td>17/01/2018</td>\n",
       "      <td>...</td>\n",
       "      <td>NaN</td>\n",
       "      <td>NaN</td>\n",
       "      <td>NaN</td>\n",
       "      <td>AB</td>\n",
       "      <td>NaN</td>\n",
       "      <td>5093.0</td>\n",
       "      <td>01</td>\n",
       "      <td>Ain</td>\n",
       "      <td>647634.0</td>\n",
       "      <td>17/01/2018nanVACAGNOLE1340.0</td>\n",
       "    </tr>\n",
       "  </tbody>\n",
       "</table>\n",
       "<p>5 rows × 48 columns</p>\n",
       "</div>"
      ],
      "text/plain": [
       "   Unnamed: 0  Identifiant de document  Reference document  1 Articles CGI  \\\n",
       "0           9                      NaN                 NaN             NaN   \n",
       "1          10                      NaN                 NaN             NaN   \n",
       "2          11                      NaN                 NaN             NaN   \n",
       "3          12                      NaN                 NaN             NaN   \n",
       "4          13                      NaN                 NaN             NaN   \n",
       "\n",
       "   2 Articles CGI  3 Articles CGI  4 Articles CGI  5 Articles CGI  \\\n",
       "0             NaN             NaN             NaN             NaN   \n",
       "1             NaN             NaN             NaN             NaN   \n",
       "2             NaN             NaN             NaN             NaN   \n",
       "3             NaN             NaN             NaN             NaN   \n",
       "4             NaN             NaN             NaN             NaN   \n",
       "\n",
       "   No disposition Date mutation  ... Identifiant local  Surface reelle bati  \\\n",
       "0               2    10/01/2018  ...               NaN                  NaN   \n",
       "1               2    12/01/2018  ...               NaN                  NaN   \n",
       "2               1    04/01/2018  ...               NaN                 45.0   \n",
       "3               1    11/01/2018  ...               NaN                 68.0   \n",
       "4               1    17/01/2018  ...               NaN                  NaN   \n",
       "\n",
       "   Nombre pieces principales Nature culture Nature culture speciale  \\\n",
       "0                        NaN              S                     NaN   \n",
       "1                        NaN             BT                     NaN   \n",
       "2                        1.0            NaN                     NaN   \n",
       "3                        3.0            NaN                     NaN   \n",
       "4                        NaN             AB                     NaN   \n",
       "\n",
       "  Surface terrain code_departement  departement     total  \\\n",
       "0           126.0               01          Ain  647634.0   \n",
       "1           197.0               01          Ain  647634.0   \n",
       "2             NaN               01          Ain  647634.0   \n",
       "3             NaN               01          Ain  647634.0   \n",
       "4          5093.0               01          Ain  647634.0   \n",
       "\n",
       "                                         key  \n",
       "0              10/01/2018nanPONT D AIN1160.0  \n",
       "1     12/01/2018nanSOUS LE BOIS GIROUD1250.0  \n",
       "2  04/01/2018ALLDE LA PETITE REYSSOUZE1000.0  \n",
       "3                 11/01/2018RUEMOLIERE1000.0  \n",
       "4               17/01/2018nanVACAGNOLE1340.0  \n",
       "\n",
       "[5 rows x 48 columns]"
      ]
     },
     "execution_count": 224,
     "metadata": {},
     "output_type": "execute_result"
    }
   ],
   "source": [
    "df= df[df[\"Nature mutation\"]==\"Vente\"]\n",
    "df.head()"
   ]
  },
  {
   "cell_type": "code",
   "execution_count": 225,
   "metadata": {},
   "outputs": [
    {
     "data": {
      "text/plain": [
       "Nature mutation\n",
       "Vente    3561121\n",
       "Name: count, dtype: int64"
      ]
     },
     "execution_count": 225,
     "metadata": {},
     "output_type": "execute_result"
    }
   ],
   "source": [
    "df[\"Nature mutation\"].value_counts()"
   ]
  },
  {
   "cell_type": "code",
   "execution_count": 226,
   "metadata": {},
   "outputs": [
    {
     "data": {
      "text/html": [
       "<div>\n",
       "<style scoped>\n",
       "    .dataframe tbody tr th:only-of-type {\n",
       "        vertical-align: middle;\n",
       "    }\n",
       "\n",
       "    .dataframe tbody tr th {\n",
       "        vertical-align: top;\n",
       "    }\n",
       "\n",
       "    .dataframe thead th {\n",
       "        text-align: right;\n",
       "    }\n",
       "</style>\n",
       "<table border=\"1\" class=\"dataframe\">\n",
       "  <thead>\n",
       "    <tr style=\"text-align: right;\">\n",
       "      <th></th>\n",
       "      <th>Surface reelle bati</th>\n",
       "      <th>Nombre pieces principales</th>\n",
       "      <th>Valeur fonciere</th>\n",
       "      <th>total</th>\n",
       "      <th>Code departement</th>\n",
       "      <th>Type local</th>\n",
       "      <th>Surface terrain</th>\n",
       "    </tr>\n",
       "  </thead>\n",
       "  <tbody>\n",
       "    <tr>\n",
       "      <th>0</th>\n",
       "      <td>NaN</td>\n",
       "      <td>NaN</td>\n",
       "      <td>3150.0</td>\n",
       "      <td>647634.0</td>\n",
       "      <td>01</td>\n",
       "      <td>NaN</td>\n",
       "      <td>126.0</td>\n",
       "    </tr>\n",
       "    <tr>\n",
       "      <th>1</th>\n",
       "      <td>NaN</td>\n",
       "      <td>NaN</td>\n",
       "      <td>2100.0</td>\n",
       "      <td>647634.0</td>\n",
       "      <td>01</td>\n",
       "      <td>NaN</td>\n",
       "      <td>197.0</td>\n",
       "    </tr>\n",
       "    <tr>\n",
       "      <th>2</th>\n",
       "      <td>45.0</td>\n",
       "      <td>1.0</td>\n",
       "      <td>67000.0</td>\n",
       "      <td>647634.0</td>\n",
       "      <td>01</td>\n",
       "      <td>Appartement</td>\n",
       "      <td>NaN</td>\n",
       "    </tr>\n",
       "    <tr>\n",
       "      <th>3</th>\n",
       "      <td>68.0</td>\n",
       "      <td>3.0</td>\n",
       "      <td>76200.0</td>\n",
       "      <td>647634.0</td>\n",
       "      <td>01</td>\n",
       "      <td>Appartement</td>\n",
       "      <td>NaN</td>\n",
       "    </tr>\n",
       "    <tr>\n",
       "      <th>4</th>\n",
       "      <td>NaN</td>\n",
       "      <td>NaN</td>\n",
       "      <td>1000.0</td>\n",
       "      <td>647634.0</td>\n",
       "      <td>01</td>\n",
       "      <td>NaN</td>\n",
       "      <td>5093.0</td>\n",
       "    </tr>\n",
       "  </tbody>\n",
       "</table>\n",
       "</div>"
      ],
      "text/plain": [
       "   Surface reelle bati  Nombre pieces principales  Valeur fonciere     total  \\\n",
       "0                  NaN                        NaN           3150.0  647634.0   \n",
       "1                  NaN                        NaN           2100.0  647634.0   \n",
       "2                 45.0                        1.0          67000.0  647634.0   \n",
       "3                 68.0                        3.0          76200.0  647634.0   \n",
       "4                  NaN                        NaN           1000.0  647634.0   \n",
       "\n",
       "  Code departement   Type local  Surface terrain  \n",
       "0               01          NaN            126.0  \n",
       "1               01          NaN            197.0  \n",
       "2               01  Appartement              NaN  \n",
       "3               01  Appartement              NaN  \n",
       "4               01          NaN           5093.0  "
      ]
     },
     "execution_count": 226,
     "metadata": {},
     "output_type": "execute_result"
    }
   ],
   "source": [
    "df2 =df[['Surface reelle bati', 'Nombre pieces principales', 'Valeur fonciere', 'total', 'Code departement', 'Type local','Surface terrain']]\n",
    "df2.head()"
   ]
  },
  {
   "cell_type": "code",
   "execution_count": 227,
   "metadata": {},
   "outputs": [
    {
     "data": {
      "text/plain": [
       "(1119203, 7)"
      ]
     },
     "execution_count": 227,
     "metadata": {},
     "output_type": "execute_result"
    }
   ],
   "source": [
    "for col in df2.select_dtypes(exclude='object'):\n",
    "    q1 = df2[col].quantile(q=0.25)\n",
    "    q3 = df2[col].quantile(q=0.75)\n",
    "\n",
    "    IQR = q3 - q1\n",
    "\n",
    "    borne_inf = q1 - 1.5 * IQR\n",
    "    borne_sup = q3 + 1.5 * IQR\n",
    "    df2 = df2[df2[col] < borne_sup]\n",
    "    df2 = df2[df2[col] > borne_inf]\n",
    "    df2[col].fillna(df2[col].median(), inplace=True)\n",
    "df2.shape"
   ]
  },
  {
   "cell_type": "markdown",
   "metadata": {},
   "source": [
    "#Ne pas oublier: on a surface reelle bati pour App et Maison!\n",
    "#On a surface terrain pour dependance et local!\n",
    "#Pour (App et maison) d'une part et (Dépendance et local) d'autre part, on enlève les ventes <= 0\n",
    "#On a vérifier qu'il n'y pas de ventes qui a à la fois des données \"surface reelle bati\" ET \"surface terrain\" <= 0 "
   ]
  },
  {
   "cell_type": "code",
   "execution_count": 136,
   "metadata": {},
   "outputs": [
    {
     "name": "stderr",
     "output_type": "stream",
     "text": [
      "C:\\Users\\naperez\\AppData\\Local\\Temp\\ipykernel_3476\\1047992687.py:1: UserWarning: Boolean Series key will be reindexed to match DataFrame index.\n",
      "  df2[df2[\"Surface reelle bati\"]<=0][df2[\"Surface terrain\"]<=0]\n"
     ]
    },
    {
     "data": {
      "text/html": [
       "<div>\n",
       "<style scoped>\n",
       "    .dataframe tbody tr th:only-of-type {\n",
       "        vertical-align: middle;\n",
       "    }\n",
       "\n",
       "    .dataframe tbody tr th {\n",
       "        vertical-align: top;\n",
       "    }\n",
       "\n",
       "    .dataframe thead th {\n",
       "        text-align: right;\n",
       "    }\n",
       "</style>\n",
       "<table border=\"1\" class=\"dataframe\">\n",
       "  <thead>\n",
       "    <tr style=\"text-align: right;\">\n",
       "      <th></th>\n",
       "      <th>Surface reelle bati</th>\n",
       "      <th>Nombre pieces principales</th>\n",
       "      <th>Valeur fonciere</th>\n",
       "      <th>total</th>\n",
       "      <th>Code departement</th>\n",
       "      <th>Type local</th>\n",
       "      <th>Surface terrain</th>\n",
       "    </tr>\n",
       "  </thead>\n",
       "  <tbody>\n",
       "  </tbody>\n",
       "</table>\n",
       "</div>"
      ],
      "text/plain": [
       "Empty DataFrame\n",
       "Columns: [Surface reelle bati, Nombre pieces principales, Valeur fonciere, total, Code departement, Type local, Surface terrain]\n",
       "Index: []"
      ]
     },
     "execution_count": 136,
     "metadata": {},
     "output_type": "execute_result"
    }
   ],
   "source": [
    "#df2[df2[\"Surface reelle bati\"]<=0][df2[\"Surface terrain\"]<=0]"
   ]
  },
  {
   "cell_type": "code",
   "execution_count": 228,
   "metadata": {},
   "outputs": [
    {
     "data": {
      "text/plain": [
       "Type local\n",
       "Maison         1067297\n",
       "Appartement       3227\n",
       "Name: count, dtype: int64"
      ]
     },
     "execution_count": 228,
     "metadata": {},
     "output_type": "execute_result"
    }
   ],
   "source": [
    "#Ne pas oublier de faire pareil pour local et dependance avec surface terrain!\n",
    "df3= df2[df2[\"Type local\"].isin([\"Appartement\", \"Maison\"]) & df2[\"Surface reelle bati\"]>0]\n",
    "df3[\"Type local\"].value_counts()"
   ]
  },
  {
   "cell_type": "code",
   "execution_count": 229,
   "metadata": {},
   "outputs": [],
   "source": [
    "dft = df3.copy()"
   ]
  },
  {
   "cell_type": "code",
   "execution_count": 230,
   "metadata": {},
   "outputs": [
    {
     "data": {
      "text/html": [
       "<div>\n",
       "<style scoped>\n",
       "    .dataframe tbody tr th:only-of-type {\n",
       "        vertical-align: middle;\n",
       "    }\n",
       "\n",
       "    .dataframe tbody tr th {\n",
       "        vertical-align: top;\n",
       "    }\n",
       "\n",
       "    .dataframe thead th {\n",
       "        text-align: right;\n",
       "    }\n",
       "</style>\n",
       "<table border=\"1\" class=\"dataframe\">\n",
       "  <thead>\n",
       "    <tr style=\"text-align: right;\">\n",
       "      <th></th>\n",
       "      <th>Surface reelle bati</th>\n",
       "      <th>Nombre pieces principales</th>\n",
       "      <th>Valeur fonciere</th>\n",
       "      <th>total</th>\n",
       "      <th>Code departement</th>\n",
       "      <th>Type local</th>\n",
       "      <th>Surface terrain</th>\n",
       "      <th>Prix metre carre</th>\n",
       "    </tr>\n",
       "  </thead>\n",
       "  <tbody>\n",
       "    <tr>\n",
       "      <th>5</th>\n",
       "      <td>80.0</td>\n",
       "      <td>3.0</td>\n",
       "      <td>130000.0</td>\n",
       "      <td>647634.0</td>\n",
       "      <td>01</td>\n",
       "      <td>Maison</td>\n",
       "      <td>55.0</td>\n",
       "      <td>1625.000000</td>\n",
       "    </tr>\n",
       "    <tr>\n",
       "      <th>6</th>\n",
       "      <td>88.0</td>\n",
       "      <td>4.0</td>\n",
       "      <td>164370.0</td>\n",
       "      <td>647634.0</td>\n",
       "      <td>01</td>\n",
       "      <td>Maison</td>\n",
       "      <td>419.0</td>\n",
       "      <td>1867.840909</td>\n",
       "    </tr>\n",
       "    <tr>\n",
       "      <th>9</th>\n",
       "      <td>108.0</td>\n",
       "      <td>5.0</td>\n",
       "      <td>95000.0</td>\n",
       "      <td>647634.0</td>\n",
       "      <td>01</td>\n",
       "      <td>Maison</td>\n",
       "      <td>1036.0</td>\n",
       "      <td>879.629630</td>\n",
       "    </tr>\n",
       "    <tr>\n",
       "      <th>17</th>\n",
       "      <td>116.0</td>\n",
       "      <td>4.0</td>\n",
       "      <td>163000.0</td>\n",
       "      <td>647634.0</td>\n",
       "      <td>01</td>\n",
       "      <td>Maison</td>\n",
       "      <td>755.0</td>\n",
       "      <td>1405.172414</td>\n",
       "    </tr>\n",
       "    <tr>\n",
       "      <th>20</th>\n",
       "      <td>173.0</td>\n",
       "      <td>4.0</td>\n",
       "      <td>117000.0</td>\n",
       "      <td>647634.0</td>\n",
       "      <td>01</td>\n",
       "      <td>Maison</td>\n",
       "      <td>1225.0</td>\n",
       "      <td>676.300578</td>\n",
       "    </tr>\n",
       "  </tbody>\n",
       "</table>\n",
       "</div>"
      ],
      "text/plain": [
       "    Surface reelle bati  Nombre pieces principales  Valeur fonciere     total  \\\n",
       "5                  80.0                        3.0         130000.0  647634.0   \n",
       "6                  88.0                        4.0         164370.0  647634.0   \n",
       "9                 108.0                        5.0          95000.0  647634.0   \n",
       "17                116.0                        4.0         163000.0  647634.0   \n",
       "20                173.0                        4.0         117000.0  647634.0   \n",
       "\n",
       "   Code departement Type local  Surface terrain  Prix metre carre  \n",
       "5                01     Maison             55.0       1625.000000  \n",
       "6                01     Maison            419.0       1867.840909  \n",
       "9                01     Maison           1036.0        879.629630  \n",
       "17               01     Maison            755.0       1405.172414  \n",
       "20               01     Maison           1225.0        676.300578  "
      ]
     },
     "execution_count": 230,
     "metadata": {},
     "output_type": "execute_result"
    }
   ],
   "source": [
    "#création d'une nouvelle variable \"prix au metre carré\" dans undf3 qui ne contient que les app et maison:\n",
    "dft[\"Prix metre carre\"]= df3[\"Valeur fonciere\"]/ df3[\"Surface reelle bati\"]\n",
    "dft.head()"
   ]
  },
  {
   "cell_type": "code",
   "execution_count": 231,
   "metadata": {},
   "outputs": [
    {
     "data": {
      "text/plain": [
       "5          1625.000000\n",
       "6          1867.840909\n",
       "9           879.629630\n",
       "17         1405.172414\n",
       "20          676.300578\n",
       "              ...     \n",
       "3646221    2983.050847\n",
       "3646227    4551.020408\n",
       "3646230    3565.217391\n",
       "3663559     714.285714\n",
       "3668314     503.355705\n",
       "Name: Prix metre carre, Length: 1070524, dtype: float64"
      ]
     },
     "execution_count": 231,
     "metadata": {},
     "output_type": "execute_result"
    }
   ],
   "source": [
    "dft['Prix metre carre']"
   ]
  },
  {
   "cell_type": "code",
   "execution_count": 232,
   "metadata": {},
   "outputs": [],
   "source": [
    "prix_carre= dft.groupby(['Code departement'])[\"Prix metre carre\"].mean()\n",
    "prix_carre = prix_carre.reset_index()"
   ]
  },
  {
   "cell_type": "code",
   "execution_count": 233,
   "metadata": {},
   "outputs": [
    {
     "data": {
      "text/html": [
       "<div>\n",
       "<style scoped>\n",
       "    .dataframe tbody tr th:only-of-type {\n",
       "        vertical-align: middle;\n",
       "    }\n",
       "\n",
       "    .dataframe tbody tr th {\n",
       "        vertical-align: top;\n",
       "    }\n",
       "\n",
       "    .dataframe thead th {\n",
       "        text-align: right;\n",
       "    }\n",
       "</style>\n",
       "<table border=\"1\" class=\"dataframe\">\n",
       "  <thead>\n",
       "    <tr style=\"text-align: right;\">\n",
       "      <th></th>\n",
       "      <th>Surface reelle bati</th>\n",
       "      <th>Nombre pieces principales</th>\n",
       "      <th>Valeur fonciere</th>\n",
       "      <th>total</th>\n",
       "      <th>Code departement</th>\n",
       "      <th>Type local</th>\n",
       "      <th>Surface terrain</th>\n",
       "      <th>Prix metre carre</th>\n",
       "    </tr>\n",
       "  </thead>\n",
       "  <tbody>\n",
       "    <tr>\n",
       "      <th>0</th>\n",
       "      <td>80.0</td>\n",
       "      <td>3.0</td>\n",
       "      <td>130000.0</td>\n",
       "      <td>647634.0</td>\n",
       "      <td>01</td>\n",
       "      <td>Maison</td>\n",
       "      <td>55.0</td>\n",
       "      <td>2144.886604</td>\n",
       "    </tr>\n",
       "    <tr>\n",
       "      <th>1</th>\n",
       "      <td>88.0</td>\n",
       "      <td>4.0</td>\n",
       "      <td>164370.0</td>\n",
       "      <td>647634.0</td>\n",
       "      <td>01</td>\n",
       "      <td>Maison</td>\n",
       "      <td>419.0</td>\n",
       "      <td>2144.886604</td>\n",
       "    </tr>\n",
       "    <tr>\n",
       "      <th>2</th>\n",
       "      <td>108.0</td>\n",
       "      <td>5.0</td>\n",
       "      <td>95000.0</td>\n",
       "      <td>647634.0</td>\n",
       "      <td>01</td>\n",
       "      <td>Maison</td>\n",
       "      <td>1036.0</td>\n",
       "      <td>2144.886604</td>\n",
       "    </tr>\n",
       "    <tr>\n",
       "      <th>3</th>\n",
       "      <td>116.0</td>\n",
       "      <td>4.0</td>\n",
       "      <td>163000.0</td>\n",
       "      <td>647634.0</td>\n",
       "      <td>01</td>\n",
       "      <td>Maison</td>\n",
       "      <td>755.0</td>\n",
       "      <td>2144.886604</td>\n",
       "    </tr>\n",
       "    <tr>\n",
       "      <th>4</th>\n",
       "      <td>173.0</td>\n",
       "      <td>4.0</td>\n",
       "      <td>117000.0</td>\n",
       "      <td>647634.0</td>\n",
       "      <td>01</td>\n",
       "      <td>Maison</td>\n",
       "      <td>1225.0</td>\n",
       "      <td>2144.886604</td>\n",
       "    </tr>\n",
       "  </tbody>\n",
       "</table>\n",
       "</div>"
      ],
      "text/plain": [
       "   Surface reelle bati  Nombre pieces principales  Valeur fonciere     total  \\\n",
       "0                 80.0                        3.0         130000.0  647634.0   \n",
       "1                 88.0                        4.0         164370.0  647634.0   \n",
       "2                108.0                        5.0          95000.0  647634.0   \n",
       "3                116.0                        4.0         163000.0  647634.0   \n",
       "4                173.0                        4.0         117000.0  647634.0   \n",
       "\n",
       "  Code departement Type local  Surface terrain  Prix metre carre  \n",
       "0               01     Maison             55.0       2144.886604  \n",
       "1               01     Maison            419.0       2144.886604  \n",
       "2               01     Maison           1036.0       2144.886604  \n",
       "3               01     Maison            755.0       2144.886604  \n",
       "4               01     Maison           1225.0       2144.886604  "
      ]
     },
     "execution_count": 233,
     "metadata": {},
     "output_type": "execute_result"
    }
   ],
   "source": [
    "df3 = df3.merge(prix_carre, how= \"left\", on= \"Code departement\")\n",
    "df3.head()"
   ]
  },
  {
   "cell_type": "code",
   "execution_count": 199,
   "metadata": {},
   "outputs": [],
   "source": [
    "# from sklearn.preprocessing import OneHotEncoder"
   ]
  },
  {
   "cell_type": "code",
   "execution_count": 200,
   "metadata": {},
   "outputs": [
    {
     "name": "stderr",
     "output_type": "stream",
     "text": [
      "c:\\Users\\naperez\\Desktop\\ML\\ml-python\\.venv\\Lib\\site-packages\\sklearn\\preprocessing\\_encoders.py:975: FutureWarning: `sparse` was renamed to `sparse_output` in version 1.2 and will be removed in 1.4. `sparse_output` is ignored unless you leave `sparse` to its default value.\n",
      "  warnings.warn(\n"
     ]
    }
   ],
   "source": [
    "# enc = OneHotEncoder(sparse= False)\n",
    "# enc.fit(df3[['Type local']])\n",
    "# dummies = pd.DataFrame(enc.transform(df3[['Type local']]), columns=enc.categories_)"
   ]
  },
  {
   "cell_type": "code",
   "execution_count": 201,
   "metadata": {},
   "outputs": [
    {
     "data": {
      "text/html": [
       "<div>\n",
       "<style scoped>\n",
       "    .dataframe tbody tr th:only-of-type {\n",
       "        vertical-align: middle;\n",
       "    }\n",
       "\n",
       "    .dataframe tbody tr th {\n",
       "        vertical-align: top;\n",
       "    }\n",
       "\n",
       "    .dataframe thead tr th {\n",
       "        text-align: left;\n",
       "    }\n",
       "</style>\n",
       "<table border=\"1\" class=\"dataframe\">\n",
       "  <thead>\n",
       "    <tr>\n",
       "      <th></th>\n",
       "      <th>Appartement</th>\n",
       "      <th>Maison</th>\n",
       "    </tr>\n",
       "  </thead>\n",
       "  <tbody>\n",
       "    <tr>\n",
       "      <th>0</th>\n",
       "      <td>0.0</td>\n",
       "      <td>1.0</td>\n",
       "    </tr>\n",
       "    <tr>\n",
       "      <th>1</th>\n",
       "      <td>0.0</td>\n",
       "      <td>1.0</td>\n",
       "    </tr>\n",
       "    <tr>\n",
       "      <th>2</th>\n",
       "      <td>0.0</td>\n",
       "      <td>1.0</td>\n",
       "    </tr>\n",
       "    <tr>\n",
       "      <th>3</th>\n",
       "      <td>0.0</td>\n",
       "      <td>1.0</td>\n",
       "    </tr>\n",
       "    <tr>\n",
       "      <th>4</th>\n",
       "      <td>0.0</td>\n",
       "      <td>1.0</td>\n",
       "    </tr>\n",
       "  </tbody>\n",
       "</table>\n",
       "</div>"
      ],
      "text/plain": [
       "  Appartement Maison\n",
       "0         0.0    1.0\n",
       "1         0.0    1.0\n",
       "2         0.0    1.0\n",
       "3         0.0    1.0\n",
       "4         0.0    1.0"
      ]
     },
     "execution_count": 201,
     "metadata": {},
     "output_type": "execute_result"
    }
   ],
   "source": [
    "# dummies.head()"
   ]
  },
  {
   "cell_type": "code",
   "execution_count": 202,
   "metadata": {},
   "outputs": [
    {
     "data": {
      "text/html": [
       "<div>\n",
       "<style scoped>\n",
       "    .dataframe tbody tr th:only-of-type {\n",
       "        vertical-align: middle;\n",
       "    }\n",
       "\n",
       "    .dataframe tbody tr th {\n",
       "        vertical-align: top;\n",
       "    }\n",
       "\n",
       "    .dataframe thead th {\n",
       "        text-align: right;\n",
       "    }\n",
       "</style>\n",
       "<table border=\"1\" class=\"dataframe\">\n",
       "  <thead>\n",
       "    <tr style=\"text-align: right;\">\n",
       "      <th></th>\n",
       "      <th>Surface reelle bati</th>\n",
       "      <th>Nombre pieces principales</th>\n",
       "      <th>Valeur fonciere</th>\n",
       "      <th>total</th>\n",
       "      <th>Code departement</th>\n",
       "      <th>Type local</th>\n",
       "      <th>Surface terrain</th>\n",
       "      <th>Prix metre carre</th>\n",
       "      <th>(Appartement,)</th>\n",
       "      <th>(Maison,)</th>\n",
       "    </tr>\n",
       "  </thead>\n",
       "  <tbody>\n",
       "    <tr>\n",
       "      <th>0</th>\n",
       "      <td>80.0</td>\n",
       "      <td>3.0</td>\n",
       "      <td>130000.0</td>\n",
       "      <td>647634.0</td>\n",
       "      <td>01</td>\n",
       "      <td>Maison</td>\n",
       "      <td>55.0</td>\n",
       "      <td>2144.886604</td>\n",
       "      <td>0.0</td>\n",
       "      <td>1.0</td>\n",
       "    </tr>\n",
       "    <tr>\n",
       "      <th>1</th>\n",
       "      <td>88.0</td>\n",
       "      <td>4.0</td>\n",
       "      <td>164370.0</td>\n",
       "      <td>647634.0</td>\n",
       "      <td>01</td>\n",
       "      <td>Maison</td>\n",
       "      <td>419.0</td>\n",
       "      <td>2144.886604</td>\n",
       "      <td>0.0</td>\n",
       "      <td>1.0</td>\n",
       "    </tr>\n",
       "    <tr>\n",
       "      <th>2</th>\n",
       "      <td>108.0</td>\n",
       "      <td>5.0</td>\n",
       "      <td>95000.0</td>\n",
       "      <td>647634.0</td>\n",
       "      <td>01</td>\n",
       "      <td>Maison</td>\n",
       "      <td>1036.0</td>\n",
       "      <td>2144.886604</td>\n",
       "      <td>0.0</td>\n",
       "      <td>1.0</td>\n",
       "    </tr>\n",
       "    <tr>\n",
       "      <th>3</th>\n",
       "      <td>116.0</td>\n",
       "      <td>4.0</td>\n",
       "      <td>163000.0</td>\n",
       "      <td>647634.0</td>\n",
       "      <td>01</td>\n",
       "      <td>Maison</td>\n",
       "      <td>755.0</td>\n",
       "      <td>2144.886604</td>\n",
       "      <td>0.0</td>\n",
       "      <td>1.0</td>\n",
       "    </tr>\n",
       "    <tr>\n",
       "      <th>4</th>\n",
       "      <td>173.0</td>\n",
       "      <td>4.0</td>\n",
       "      <td>117000.0</td>\n",
       "      <td>647634.0</td>\n",
       "      <td>01</td>\n",
       "      <td>Maison</td>\n",
       "      <td>1225.0</td>\n",
       "      <td>2144.886604</td>\n",
       "      <td>0.0</td>\n",
       "      <td>1.0</td>\n",
       "    </tr>\n",
       "  </tbody>\n",
       "</table>\n",
       "</div>"
      ],
      "text/plain": [
       "   Surface reelle bati  Nombre pieces principales  Valeur fonciere     total  \\\n",
       "0                 80.0                        3.0         130000.0  647634.0   \n",
       "1                 88.0                        4.0         164370.0  647634.0   \n",
       "2                108.0                        5.0          95000.0  647634.0   \n",
       "3                116.0                        4.0         163000.0  647634.0   \n",
       "4                173.0                        4.0         117000.0  647634.0   \n",
       "\n",
       "  Code departement Type local  Surface terrain  Prix metre carre  \\\n",
       "0               01     Maison             55.0       2144.886604   \n",
       "1               01     Maison            419.0       2144.886604   \n",
       "2               01     Maison           1036.0       2144.886604   \n",
       "3               01     Maison            755.0       2144.886604   \n",
       "4               01     Maison           1225.0       2144.886604   \n",
       "\n",
       "   (Appartement,)  (Maison,)  \n",
       "0             0.0        1.0  \n",
       "1             0.0        1.0  \n",
       "2             0.0        1.0  \n",
       "3             0.0        1.0  \n",
       "4             0.0        1.0  "
      ]
     },
     "execution_count": 202,
     "metadata": {},
     "output_type": "execute_result"
    }
   ],
   "source": [
    "# df3 = df3.merge(dummies, left_index=True, right_index=True)\n",
    "# df3.head()"
   ]
  },
  {
   "cell_type": "code",
   "execution_count": 235,
   "metadata": {},
   "outputs": [
    {
     "data": {
      "text/html": [
       "<div>\n",
       "<style scoped>\n",
       "    .dataframe tbody tr th:only-of-type {\n",
       "        vertical-align: middle;\n",
       "    }\n",
       "\n",
       "    .dataframe tbody tr th {\n",
       "        vertical-align: top;\n",
       "    }\n",
       "\n",
       "    .dataframe thead th {\n",
       "        text-align: right;\n",
       "    }\n",
       "</style>\n",
       "<table border=\"1\" class=\"dataframe\">\n",
       "  <thead>\n",
       "    <tr style=\"text-align: right;\">\n",
       "      <th></th>\n",
       "      <th>Surface reelle bati</th>\n",
       "      <th>Nombre pieces principales</th>\n",
       "      <th>Valeur fonciere</th>\n",
       "      <th>total</th>\n",
       "      <th>Code departement</th>\n",
       "      <th>Type local</th>\n",
       "      <th>Surface terrain</th>\n",
       "      <th>Prix metre carre</th>\n",
       "    </tr>\n",
       "  </thead>\n",
       "  <tbody>\n",
       "    <tr>\n",
       "      <th>0</th>\n",
       "      <td>80.0</td>\n",
       "      <td>3.0</td>\n",
       "      <td>130000.0</td>\n",
       "      <td>647634.0</td>\n",
       "      <td>01</td>\n",
       "      <td>Maison</td>\n",
       "      <td>55.0</td>\n",
       "      <td>2144.886604</td>\n",
       "    </tr>\n",
       "    <tr>\n",
       "      <th>1</th>\n",
       "      <td>88.0</td>\n",
       "      <td>4.0</td>\n",
       "      <td>164370.0</td>\n",
       "      <td>647634.0</td>\n",
       "      <td>01</td>\n",
       "      <td>Maison</td>\n",
       "      <td>419.0</td>\n",
       "      <td>2144.886604</td>\n",
       "    </tr>\n",
       "    <tr>\n",
       "      <th>2</th>\n",
       "      <td>108.0</td>\n",
       "      <td>5.0</td>\n",
       "      <td>95000.0</td>\n",
       "      <td>647634.0</td>\n",
       "      <td>01</td>\n",
       "      <td>Maison</td>\n",
       "      <td>1036.0</td>\n",
       "      <td>2144.886604</td>\n",
       "    </tr>\n",
       "    <tr>\n",
       "      <th>3</th>\n",
       "      <td>116.0</td>\n",
       "      <td>4.0</td>\n",
       "      <td>163000.0</td>\n",
       "      <td>647634.0</td>\n",
       "      <td>01</td>\n",
       "      <td>Maison</td>\n",
       "      <td>755.0</td>\n",
       "      <td>2144.886604</td>\n",
       "    </tr>\n",
       "    <tr>\n",
       "      <th>4</th>\n",
       "      <td>173.0</td>\n",
       "      <td>4.0</td>\n",
       "      <td>117000.0</td>\n",
       "      <td>647634.0</td>\n",
       "      <td>01</td>\n",
       "      <td>Maison</td>\n",
       "      <td>1225.0</td>\n",
       "      <td>2144.886604</td>\n",
       "    </tr>\n",
       "  </tbody>\n",
       "</table>\n",
       "</div>"
      ],
      "text/plain": [
       "   Surface reelle bati  Nombre pieces principales  Valeur fonciere     total  \\\n",
       "0                 80.0                        3.0         130000.0  647634.0   \n",
       "1                 88.0                        4.0         164370.0  647634.0   \n",
       "2                108.0                        5.0          95000.0  647634.0   \n",
       "3                116.0                        4.0         163000.0  647634.0   \n",
       "4                173.0                        4.0         117000.0  647634.0   \n",
       "\n",
       "  Code departement Type local  Surface terrain  Prix metre carre  \n",
       "0               01     Maison             55.0       2144.886604  \n",
       "1               01     Maison            419.0       2144.886604  \n",
       "2               01     Maison           1036.0       2144.886604  \n",
       "3               01     Maison            755.0       2144.886604  \n",
       "4               01     Maison           1225.0       2144.886604  "
      ]
     },
     "execution_count": 235,
     "metadata": {},
     "output_type": "execute_result"
    }
   ],
   "source": [
    "df3.head()"
   ]
  },
  {
   "cell_type": "code",
   "execution_count": 236,
   "metadata": {},
   "outputs": [],
   "source": [
    "df3.drop('Type local', axis=1, inplace=True)"
   ]
  },
  {
   "cell_type": "code",
   "execution_count": 238,
   "metadata": {},
   "outputs": [],
   "source": [
    "df4 = df3.copy()"
   ]
  },
  {
   "cell_type": "code",
   "execution_count": 242,
   "metadata": {},
   "outputs": [
    {
     "data": {
      "text/html": [
       "<div>\n",
       "<style scoped>\n",
       "    .dataframe tbody tr th:only-of-type {\n",
       "        vertical-align: middle;\n",
       "    }\n",
       "\n",
       "    .dataframe tbody tr th {\n",
       "        vertical-align: top;\n",
       "    }\n",
       "\n",
       "    .dataframe thead th {\n",
       "        text-align: right;\n",
       "    }\n",
       "</style>\n",
       "<table border=\"1\" class=\"dataframe\">\n",
       "  <thead>\n",
       "    <tr style=\"text-align: right;\">\n",
       "      <th></th>\n",
       "      <th>Surface reelle bati</th>\n",
       "      <th>Nombre pieces principales</th>\n",
       "      <th>Valeur fonciere</th>\n",
       "      <th>total</th>\n",
       "      <th>Surface terrain</th>\n",
       "      <th>Prix metre carre</th>\n",
       "    </tr>\n",
       "  </thead>\n",
       "  <tbody>\n",
       "    <tr>\n",
       "      <th>0</th>\n",
       "      <td>80.0</td>\n",
       "      <td>3.0</td>\n",
       "      <td>130000.0</td>\n",
       "      <td>647634.0</td>\n",
       "      <td>55.0</td>\n",
       "      <td>2144.886604</td>\n",
       "    </tr>\n",
       "    <tr>\n",
       "      <th>1</th>\n",
       "      <td>88.0</td>\n",
       "      <td>4.0</td>\n",
       "      <td>164370.0</td>\n",
       "      <td>647634.0</td>\n",
       "      <td>419.0</td>\n",
       "      <td>2144.886604</td>\n",
       "    </tr>\n",
       "    <tr>\n",
       "      <th>2</th>\n",
       "      <td>108.0</td>\n",
       "      <td>5.0</td>\n",
       "      <td>95000.0</td>\n",
       "      <td>647634.0</td>\n",
       "      <td>1036.0</td>\n",
       "      <td>2144.886604</td>\n",
       "    </tr>\n",
       "    <tr>\n",
       "      <th>3</th>\n",
       "      <td>116.0</td>\n",
       "      <td>4.0</td>\n",
       "      <td>163000.0</td>\n",
       "      <td>647634.0</td>\n",
       "      <td>755.0</td>\n",
       "      <td>2144.886604</td>\n",
       "    </tr>\n",
       "    <tr>\n",
       "      <th>4</th>\n",
       "      <td>173.0</td>\n",
       "      <td>4.0</td>\n",
       "      <td>117000.0</td>\n",
       "      <td>647634.0</td>\n",
       "      <td>1225.0</td>\n",
       "      <td>2144.886604</td>\n",
       "    </tr>\n",
       "  </tbody>\n",
       "</table>\n",
       "</div>"
      ],
      "text/plain": [
       "   Surface reelle bati  Nombre pieces principales  Valeur fonciere     total  \\\n",
       "0                 80.0                        3.0         130000.0  647634.0   \n",
       "1                 88.0                        4.0         164370.0  647634.0   \n",
       "2                108.0                        5.0          95000.0  647634.0   \n",
       "3                116.0                        4.0         163000.0  647634.0   \n",
       "4                173.0                        4.0         117000.0  647634.0   \n",
       "\n",
       "   Surface terrain  Prix metre carre  \n",
       "0             55.0       2144.886604  \n",
       "1            419.0       2144.886604  \n",
       "2           1036.0       2144.886604  \n",
       "3            755.0       2144.886604  \n",
       "4           1225.0       2144.886604  "
      ]
     },
     "execution_count": 242,
     "metadata": {},
     "output_type": "execute_result"
    }
   ],
   "source": [
    "df4.head()"
   ]
  },
  {
   "cell_type": "code",
   "execution_count": 243,
   "metadata": {},
   "outputs": [],
   "source": [
    "df4.drop('Surface terrain', axis=1, inplace=True)\n"
   ]
  },
  {
   "cell_type": "code",
   "execution_count": 244,
   "metadata": {},
   "outputs": [
    {
     "data": {
      "text/html": [
       "<div>\n",
       "<style scoped>\n",
       "    .dataframe tbody tr th:only-of-type {\n",
       "        vertical-align: middle;\n",
       "    }\n",
       "\n",
       "    .dataframe tbody tr th {\n",
       "        vertical-align: top;\n",
       "    }\n",
       "\n",
       "    .dataframe thead th {\n",
       "        text-align: right;\n",
       "    }\n",
       "</style>\n",
       "<table border=\"1\" class=\"dataframe\">\n",
       "  <thead>\n",
       "    <tr style=\"text-align: right;\">\n",
       "      <th></th>\n",
       "      <th>Surface reelle bati</th>\n",
       "      <th>Nombre pieces principales</th>\n",
       "      <th>Valeur fonciere</th>\n",
       "      <th>total</th>\n",
       "      <th>Prix metre carre</th>\n",
       "    </tr>\n",
       "  </thead>\n",
       "  <tbody>\n",
       "    <tr>\n",
       "      <th>0</th>\n",
       "      <td>80.0</td>\n",
       "      <td>3.0</td>\n",
       "      <td>130000.0</td>\n",
       "      <td>647634.0</td>\n",
       "      <td>2144.886604</td>\n",
       "    </tr>\n",
       "    <tr>\n",
       "      <th>1</th>\n",
       "      <td>88.0</td>\n",
       "      <td>4.0</td>\n",
       "      <td>164370.0</td>\n",
       "      <td>647634.0</td>\n",
       "      <td>2144.886604</td>\n",
       "    </tr>\n",
       "    <tr>\n",
       "      <th>2</th>\n",
       "      <td>108.0</td>\n",
       "      <td>5.0</td>\n",
       "      <td>95000.0</td>\n",
       "      <td>647634.0</td>\n",
       "      <td>2144.886604</td>\n",
       "    </tr>\n",
       "    <tr>\n",
       "      <th>3</th>\n",
       "      <td>116.0</td>\n",
       "      <td>4.0</td>\n",
       "      <td>163000.0</td>\n",
       "      <td>647634.0</td>\n",
       "      <td>2144.886604</td>\n",
       "    </tr>\n",
       "    <tr>\n",
       "      <th>4</th>\n",
       "      <td>173.0</td>\n",
       "      <td>4.0</td>\n",
       "      <td>117000.0</td>\n",
       "      <td>647634.0</td>\n",
       "      <td>2144.886604</td>\n",
       "    </tr>\n",
       "  </tbody>\n",
       "</table>\n",
       "</div>"
      ],
      "text/plain": [
       "   Surface reelle bati  Nombre pieces principales  Valeur fonciere     total  \\\n",
       "0                 80.0                        3.0         130000.0  647634.0   \n",
       "1                 88.0                        4.0         164370.0  647634.0   \n",
       "2                108.0                        5.0          95000.0  647634.0   \n",
       "3                116.0                        4.0         163000.0  647634.0   \n",
       "4                173.0                        4.0         117000.0  647634.0   \n",
       "\n",
       "   Prix metre carre  \n",
       "0       2144.886604  \n",
       "1       2144.886604  \n",
       "2       2144.886604  \n",
       "3       2144.886604  \n",
       "4       2144.886604  "
      ]
     },
     "execution_count": 244,
     "metadata": {},
     "output_type": "execute_result"
    }
   ],
   "source": [
    "df4.head()"
   ]
  },
  {
   "cell_type": "code",
   "execution_count": 245,
   "metadata": {},
   "outputs": [
    {
     "data": {
      "text/plain": [
       "<Axes: >"
      ]
     },
     "execution_count": 245,
     "metadata": {},
     "output_type": "execute_result"
    },
    {
     "data": {
      "image/png": "[encoded data removed]",
      "text/plain": [
       "<Figure size 640x480 with 2 Axes>"
      ]
     },
     "metadata": {},
     "output_type": "display_data"
    }
   ],
   "source": [
    "sns.heatmap(df4.corr(), vmax=1, vmin=-1, annot=True)"
   ]
  },
  {
   "cell_type": "code",
   "execution_count": 246,
   "metadata": {},
   "outputs": [],
   "source": [
    "from sklearn.metrics import r2_score, mean_squared_error\n",
    "from sklearn.model_selection import train_test_split\n",
    "from sklearn.ensemble import RandomForestRegressor"
   ]
  },
  {
   "cell_type": "code",
   "execution_count": 247,
   "metadata": {},
   "outputs": [],
   "source": [
    "target = 'Valeur fonciere'"
   ]
  },
  {
   "cell_type": "code",
   "execution_count": 248,
   "metadata": {},
   "outputs": [],
   "source": [
    "X = df4.drop(target,  axis=1)\n",
    "y = df4[target]"
   ]
  },
  {
   "cell_type": "code",
   "execution_count": 249,
   "metadata": {},
   "outputs": [],
   "source": [
    "from sklearn.preprocessing import StandardScaler\n",
    "scaler = StandardScaler()"
   ]
  },
  {
   "cell_type": "code",
   "execution_count": 250,
   "metadata": {},
   "outputs": [],
   "source": [
    "X_train, X_test, y_train, y_test = train_test_split(X, y, test_size=0.3, random_state=0)"
   ]
  },
  {
   "cell_type": "code",
   "execution_count": 251,
   "metadata": {},
   "outputs": [
    {
     "data": {
      "text/html": [
       "<div>\n",
       "<style scoped>\n",
       "    .dataframe tbody tr th:only-of-type {\n",
       "        vertical-align: middle;\n",
       "    }\n",
       "\n",
       "    .dataframe tbody tr th {\n",
       "        vertical-align: top;\n",
       "    }\n",
       "\n",
       "    .dataframe thead th {\n",
       "        text-align: right;\n",
       "    }\n",
       "</style>\n",
       "<table border=\"1\" class=\"dataframe\">\n",
       "  <thead>\n",
       "    <tr style=\"text-align: right;\">\n",
       "      <th></th>\n",
       "      <th>Surface reelle bati</th>\n",
       "      <th>Nombre pieces principales</th>\n",
       "      <th>total</th>\n",
       "      <th>Prix metre carre</th>\n",
       "    </tr>\n",
       "  </thead>\n",
       "  <tbody>\n",
       "    <tr>\n",
       "      <th>0</th>\n",
       "      <td>0.361959</td>\n",
       "      <td>-0.004936</td>\n",
       "      <td>-0.852194</td>\n",
       "      <td>0.317638</td>\n",
       "    </tr>\n",
       "    <tr>\n",
       "      <th>1</th>\n",
       "      <td>0.220032</td>\n",
       "      <td>-0.004936</td>\n",
       "      <td>1.756450</td>\n",
       "      <td>1.885667</td>\n",
       "    </tr>\n",
       "    <tr>\n",
       "      <th>2</th>\n",
       "      <td>-1.270204</td>\n",
       "      <td>-0.897325</td>\n",
       "      <td>-1.165528</td>\n",
       "      <td>-1.483998</td>\n",
       "    </tr>\n",
       "    <tr>\n",
       "      <th>3</th>\n",
       "      <td>-0.383159</td>\n",
       "      <td>0.887452</td>\n",
       "      <td>2.647339</td>\n",
       "      <td>-0.289229</td>\n",
       "    </tr>\n",
       "    <tr>\n",
       "      <th>4</th>\n",
       "      <td>0.220032</td>\n",
       "      <td>-0.004936</td>\n",
       "      <td>0.516429</td>\n",
       "      <td>0.415629</td>\n",
       "    </tr>\n",
       "    <tr>\n",
       "      <th>...</th>\n",
       "      <td>...</td>\n",
       "      <td>...</td>\n",
       "      <td>...</td>\n",
       "      <td>...</td>\n",
       "    </tr>\n",
       "    <tr>\n",
       "      <th>749361</th>\n",
       "      <td>-0.808941</td>\n",
       "      <td>-0.004936</td>\n",
       "      <td>0.210507</td>\n",
       "      <td>0.179589</td>\n",
       "    </tr>\n",
       "    <tr>\n",
       "      <th>749362</th>\n",
       "      <td>0.539368</td>\n",
       "      <td>-0.004936</td>\n",
       "      <td>2.647339</td>\n",
       "      <td>-0.289229</td>\n",
       "    </tr>\n",
       "    <tr>\n",
       "      <th>749363</th>\n",
       "      <td>-1.376650</td>\n",
       "      <td>-0.897325</td>\n",
       "      <td>-1.191642</td>\n",
       "      <td>-1.530473</td>\n",
       "    </tr>\n",
       "    <tr>\n",
       "      <th>749364</th>\n",
       "      <td>-0.560568</td>\n",
       "      <td>-1.789713</td>\n",
       "      <td>-0.428978</td>\n",
       "      <td>-0.415698</td>\n",
       "    </tr>\n",
       "    <tr>\n",
       "      <th>749365</th>\n",
       "      <td>0.397441</td>\n",
       "      <td>-0.897325</td>\n",
       "      <td>-0.659968</td>\n",
       "      <td>-0.280281</td>\n",
       "    </tr>\n",
       "  </tbody>\n",
       "</table>\n",
       "<p>749366 rows × 4 columns</p>\n",
       "</div>"
      ],
      "text/plain": [
       "        Surface reelle bati  Nombre pieces principales     total  \\\n",
       "0                  0.361959                  -0.004936 -0.852194   \n",
       "1                  0.220032                  -0.004936  1.756450   \n",
       "2                 -1.270204                  -0.897325 -1.165528   \n",
       "3                 -0.383159                   0.887452  2.647339   \n",
       "4                  0.220032                  -0.004936  0.516429   \n",
       "...                     ...                        ...       ...   \n",
       "749361            -0.808941                  -0.004936  0.210507   \n",
       "749362             0.539368                  -0.004936  2.647339   \n",
       "749363            -1.376650                  -0.897325 -1.191642   \n",
       "749364            -0.560568                  -1.789713 -0.428978   \n",
       "749365             0.397441                  -0.897325 -0.659968   \n",
       "\n",
       "        Prix metre carre  \n",
       "0               0.317638  \n",
       "1               1.885667  \n",
       "2              -1.483998  \n",
       "3              -0.289229  \n",
       "4               0.415629  \n",
       "...                  ...  \n",
       "749361          0.179589  \n",
       "749362         -0.289229  \n",
       "749363         -1.530473  \n",
       "749364         -0.415698  \n",
       "749365         -0.280281  \n",
       "\n",
       "[749366 rows x 4 columns]"
      ]
     },
     "execution_count": 251,
     "metadata": {},
     "output_type": "execute_result"
    }
   ],
   "source": [
    "scaler.fit(X_train)\n",
    "X_train_SC= scaler.transform(X_train)\n",
    "X_train_SC = pd.DataFrame(X_train_SC, columns=X_train.columns)\n",
    "X_train_SC"
   ]
  },
  {
   "cell_type": "code",
   "execution_count": 252,
   "metadata": {},
   "outputs": [
    {
     "data": {
      "text/html": [
       "<style>#sk-container-id-2 {color: black;}#sk-container-id-2 pre{padding: 0;}#sk-container-id-2 div.sk-toggleable {background-color: white;}#sk-container-id-2 label.sk-toggleable__label {cursor: pointer;display: block;width: 100%;margin-bottom: 0;padding: 0.3em;box-sizing: border-box;text-align: center;}#sk-container-id-2 label.sk-toggleable__label-arrow:before {content: \"▸\";float: left;margin-right: 0.25em;color: #696969;}#sk-container-id-2 label.sk-toggleable__label-arrow:hover:before {color: black;}#sk-container-id-2 div.sk-estimator:hover label.sk-toggleable__label-arrow:before {color: black;}#sk-container-id-2 div.sk-toggleable__content {max-height: 0;max-width: 0;overflow: hidden;text-align: left;background-color: #f0f8ff;}#sk-container-id-2 div.sk-toggleable__content pre {margin: 0.2em;color: black;border-radius: 0.25em;background-color: #f0f8ff;}#sk-container-id-2 input.sk-toggleable__control:checked~div.sk-toggleable__content {max-height: 200px;max-width: 100%;overflow: auto;}#sk-container-id-2 input.sk-toggleable__control:checked~label.sk-toggleable__label-arrow:before {content: \"▾\";}#sk-container-id-2 div.sk-estimator input.sk-toggleable__control:checked~label.sk-toggleable__label {background-color: #d4ebff;}#sk-container-id-2 div.sk-label input.sk-toggleable__control:checked~label.sk-toggleable__label {background-color: #d4ebff;}#sk-container-id-2 input.sk-hidden--visually {border: 0;clip: rect(1px 1px 1px 1px);clip: rect(1px, 1px, 1px, 1px);height: 1px;margin: -1px;overflow: hidden;padding: 0;position: absolute;width: 1px;}#sk-container-id-2 div.sk-estimator {font-family: monospace;background-color: #f0f8ff;border: 1px dotted black;border-radius: 0.25em;box-sizing: border-box;margin-bottom: 0.5em;}#sk-container-id-2 div.sk-estimator:hover {background-color: #d4ebff;}#sk-container-id-2 div.sk-parallel-item::after {content: \"\";width: 100%;border-bottom: 1px solid gray;flex-grow: 1;}#sk-container-id-2 div.sk-label:hover label.sk-toggleable__label {background-color: #d4ebff;}#sk-container-id-2 div.sk-serial::before {content: \"\";position: absolute;border-left: 1px solid gray;box-sizing: border-box;top: 0;bottom: 0;left: 50%;z-index: 0;}#sk-container-id-2 div.sk-serial {display: flex;flex-direction: column;align-items: center;background-color: white;padding-right: 0.2em;padding-left: 0.2em;position: relative;}#sk-container-id-2 div.sk-item {position: relative;z-index: 1;}#sk-container-id-2 div.sk-parallel {display: flex;align-items: stretch;justify-content: center;background-color: white;position: relative;}#sk-container-id-2 div.sk-item::before, #sk-container-id-2 div.sk-parallel-item::before {content: \"\";position: absolute;border-left: 1px solid gray;box-sizing: border-box;top: 0;bottom: 0;left: 50%;z-index: -1;}#sk-container-id-2 div.sk-parallel-item {display: flex;flex-direction: column;z-index: 1;position: relative;background-color: white;}#sk-container-id-2 div.sk-parallel-item:first-child::after {align-self: flex-end;width: 50%;}#sk-container-id-2 div.sk-parallel-item:last-child::after {align-self: flex-start;width: 50%;}#sk-container-id-2 div.sk-parallel-item:only-child::after {width: 0;}#sk-container-id-2 div.sk-dashed-wrapped {border: 1px dashed gray;margin: 0 0.4em 0.5em 0.4em;box-sizing: border-box;padding-bottom: 0.4em;background-color: white;}#sk-container-id-2 div.sk-label label {font-family: monospace;font-weight: bold;display: inline-block;line-height: 1.2em;}#sk-container-id-2 div.sk-label-container {text-align: center;}#sk-container-id-2 div.sk-container {/* jupyter's `normalize.less` sets `[hidden] { display: none; }` but bootstrap.min.css set `[hidden] { display: none !important; }` so we also need the `!important` here to be able to override the default hidden behavior on the sphinx rendered scikit-learn.org. See: https://github.com/scikit-learn/scikit-learn/issues/21755 */display: inline-block !important;position: relative;}#sk-container-id-2 div.sk-text-repr-fallback {display: none;}</style><div id=\"sk-container-id-2\" class=\"sk-top-container\"><div class=\"sk-text-repr-fallback\"><pre>RandomForestRegressor(max_depth=9, min_samples_leaf=5, min_samples_split=400,\n",
       "                      n_estimators=150, random_state=0)</pre><b>In a Jupyter environment, please rerun this cell to show the HTML representation or trust the notebook. <br />On GitHub, the HTML representation is unable to render, please try loading this page with nbviewer.org.</b></div><div class=\"sk-container\" hidden><div class=\"sk-item\"><div class=\"sk-estimator sk-toggleable\"><input class=\"sk-toggleable__control sk-hidden--visually\" id=\"sk-estimator-id-2\" type=\"checkbox\" checked><label for=\"sk-estimator-id-2\" class=\"sk-toggleable__label sk-toggleable__label-arrow\">RandomForestRegressor</label><div class=\"sk-toggleable__content\"><pre>RandomForestRegressor(max_depth=9, min_samples_leaf=5, min_samples_split=400,\n",
       "                      n_estimators=150, random_state=0)</pre></div></div></div></div></div>"
      ],
      "text/plain": [
       "RandomForestRegressor(max_depth=9, min_samples_leaf=5, min_samples_split=400,\n",
       "                      n_estimators=150, random_state=0)"
      ]
     },
     "execution_count": 252,
     "metadata": {},
     "output_type": "execute_result"
    }
   ],
   "source": [
    "model = RandomForestRegressor(max_depth=9, min_samples_leaf=5, min_samples_split=400, n_estimators=150, random_state=0)\n",
    "model.fit(X_train_SC, y_train)"
   ]
  },
  {
   "cell_type": "code",
   "execution_count": 253,
   "metadata": {},
   "outputs": [],
   "source": [
    "X_test_SC= scaler.transform(X_test)\n",
    "X_test_SC = pd.DataFrame(X_test_SC, columns=X_test.columns)"
   ]
  },
  {
   "cell_type": "code",
   "execution_count": 254,
   "metadata": {},
   "outputs": [],
   "source": [
    "y_pred = model.predict(X_test_SC)"
   ]
  },
  {
   "cell_type": "code",
   "execution_count": 255,
   "metadata": {},
   "outputs": [],
   "source": [
    "mse = mean_squared_error(y_test, y_pred)\n",
    "rmse = math.sqrt(mean_squared_error(y_test, y_pred))\n",
    "r2Score = r2_score(y_test, y_pred)"
   ]
  },
  {
   "cell_type": "code",
   "execution_count": 256,
   "metadata": {},
   "outputs": [
    {
     "data": {
      "text/plain": [
       "5393945961.581707"
      ]
     },
     "execution_count": 256,
     "metadata": {},
     "output_type": "execute_result"
    }
   ],
   "source": [
    "mse"
   ]
  },
  {
   "cell_type": "code",
   "execution_count": 257,
   "metadata": {},
   "outputs": [
    {
     "data": {
      "text/plain": [
       "0.47936344143416343"
      ]
     },
     "execution_count": 257,
     "metadata": {},
     "output_type": "execute_result"
    }
   ],
   "source": [
    "r2Score"
   ]
  },
  {
   "cell_type": "code",
   "execution_count": 258,
   "metadata": {},
   "outputs": [
    {
     "data": {
      "text/plain": [
       "73443.48821768821"
      ]
     },
     "execution_count": 258,
     "metadata": {},
     "output_type": "execute_result"
    }
   ],
   "source": [
    "rmse"
   ]
  },
  {
   "cell_type": "code",
   "execution_count": 37,
   "metadata": {},
   "outputs": [
    {
     "data": {
      "text/plain": [
       "array(['Surface reelle bati', 'Nombre pieces principales', 'total'],\n",
       "      dtype=object)"
      ]
     },
     "execution_count": 37,
     "metadata": {},
     "output_type": "execute_result"
    }
   ],
   "source": [
    "model.feature_names_in_"
   ]
  },
  {
   "cell_type": "code",
   "execution_count": 39,
   "metadata": {},
   "outputs": [
    {
     "data": {
      "text/plain": [
       "array([0.46182206, 0.01909686, 0.51908107])"
      ]
     },
     "execution_count": 39,
     "metadata": {},
     "output_type": "execute_result"
    }
   ],
   "source": [
    "model.feature_importances_"
   ]
  },
  {
   "cell_type": "code",
   "execution_count": 48,
   "metadata": {},
   "outputs": [],
   "source": [
    "import pickle"
   ]
  },
  {
   "cell_type": "code",
   "execution_count": 54,
   "metadata": {},
   "outputs": [],
   "source": [
    "with open(\"./assets/models/random-forest-regressor.pkl\", \"wb\") as f:\n",
    "    pickle.dump({'model': model, 'scaler' : scaler, 'encoder' : enc }, f)"
   ]
  },
  {
   "cell_type": "code",
   "execution_count": null,
   "metadata": {},
   "outputs": [],
   "source": []
  }
 ],
 "metadata": {
  "kernelspec": {
   "display_name": ".venv",
   "language": "python",
   "name": "python3"
  },
  "language_info": {
   "codemirror_mode": {
    "name": "ipython",
    "version": 3
   },
   "file_extension": ".py",
   "mimetype": "text/x-python",
   "name": "python",
   "nbconvert_exporter": "python",
   "pygments_lexer": "ipython3",
   "version": "3.11.4"
  },
  "orig_nbformat": 4
 },
 "nbformat": 4,
 "nbformat_minor": 2
}
