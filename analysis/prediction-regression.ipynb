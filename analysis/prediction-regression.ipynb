{
 "cells": [
  {
   "cell_type": "code",
   "execution_count": 1,
   "metadata": {},
   "outputs": [],
   "source": [
    "import pickle\n",
    "import pandas as pd"
   ]
  },
  {
   "cell_type": "code",
   "execution_count": 3,
   "metadata": {},
   "outputs": [],
   "source": [
    "modelFile = {\n",
    "    'tree': 'random-forest-regressor-all.pkl',\n",
    "    'randomForest': 'random-forest-regressor-tree-all.pkl',\n",
    "}"
   ]
  },
  {
   "cell_type": "code",
   "execution_count": 4,
   "metadata": {},
   "outputs": [],
   "source": [
    "with open(f\"../assets/models/{modelFile['tree']}\", \"rb\") as f:\n",
    "    model = pickle.load(f)"
   ]
  },
  {
   "cell_type": "code",
   "execution_count": 5,
   "metadata": {},
   "outputs": [],
   "source": [
    "regresssor = model['model']"
   ]
  },
  {
   "cell_type": "code",
   "execution_count": 6,
   "metadata": {},
   "outputs": [],
   "source": [
    "scaler = model['scaler']"
   ]
  },
  {
   "cell_type": "code",
   "execution_count": 9,
   "metadata": {},
   "outputs": [
    {
     "name": "stderr",
     "output_type": "stream",
     "text": [
      "/Users/moise/Documents/projects/m2-sise/ml-python/.venv/lib/python3.11/site-packages/sklearn/base.py:465: UserWarning: X does not have valid feature names, but StandardScaler was fitted with feature names\n",
      "  warnings.warn(\n"
     ]
    },
    {
     "data": {
      "text/plain": [
       "array([[-0.09639137, -0.54955989, -1.03474259]])"
      ]
     },
     "execution_count": 9,
     "metadata": {},
     "output_type": "execute_result"
    }
   ],
   "source": [
    "scaler.transform([[2294.079592, 647634.0, 45]])"
   ]
  },
  {
   "cell_type": "code",
   "execution_count": 12,
   "metadata": {},
   "outputs": [
    {
     "name": "stderr",
     "output_type": "stream",
     "text": [
      "/Users/moise/Documents/projects/m2-sise/ml-python/.venv/lib/python3.11/site-packages/sklearn/base.py:465: UserWarning: X does not have valid feature names, but StandardScaler was fitted with feature names\n",
      "  warnings.warn(\n",
      "/Users/moise/Documents/projects/m2-sise/ml-python/.venv/lib/python3.11/site-packages/sklearn/base.py:465: UserWarning: X does not have valid feature names, but RandomForestRegressor was fitted with feature names\n",
      "  warnings.warn(\n"
     ]
    },
    {
     "data": {
      "text/plain": [
       "108264.09796538134"
      ]
     },
     "execution_count": 12,
     "metadata": {},
     "output_type": "execute_result"
    }
   ],
   "source": [
    "regresssor.predict(scaler.transform([[2294.079592, 647634.0, 45]]))[0]"
   ]
  },
  {
   "cell_type": "code",
   "execution_count": 23,
   "metadata": {},
   "outputs": [],
   "source": [
    "def to_scale(metre_carre,\tpopulation,\tsurface):\n",
    "    x = pd.DataFrame([[metre_carre,\tpopulation,\tsurface]], columns=regresssor.feature_names_in_)\n",
    "    x = pd.DataFrame(scaler.transform(x), columns=regresssor.feature_names_in_)\n",
    "    v = regresssor.predict(x)[0]\n",
    "    return v"
   ]
  },
  {
   "cell_type": "code",
   "execution_count": 24,
   "metadata": {},
   "outputs": [
    {
     "data": {
      "text/plain": [
       "242473.9804174468"
      ]
     },
     "execution_count": 24,
     "metadata": {},
     "output_type": "execute_result"
    }
   ],
   "source": [
    "to_scale(12222, 222,222)"
   ]
  },
  {
   "cell_type": "code",
   "execution_count": 30,
   "metadata": {},
   "outputs": [
    {
     "data": {
      "text/plain": [
       "(378041, 34)"
      ]
     },
     "execution_count": 30,
     "metadata": {},
     "output_type": "execute_result"
    }
   ],
   "source": [
    "df =pd.read_csv(f'../assets/data/submissions.csv', sep=',', decimal='.', low_memory=False)\n",
    "df.shape"
   ]
  },
  {
   "cell_type": "code",
   "execution_count": 31,
   "metadata": {},
   "outputs": [
    {
     "data": {
      "text/html": [
       "<div>\n",
       "<style scoped>\n",
       "    .dataframe tbody tr th:only-of-type {\n",
       "        vertical-align: middle;\n",
       "    }\n",
       "\n",
       "    .dataframe tbody tr th {\n",
       "        vertical-align: top;\n",
       "    }\n",
       "\n",
       "    .dataframe thead th {\n",
       "        text-align: right;\n",
       "    }\n",
       "</style>\n",
       "<table border=\"1\" class=\"dataframe\">\n",
       "  <thead>\n",
       "    <tr style=\"text-align: right;\">\n",
       "      <th></th>\n",
       "      <th>code_departement</th>\n",
       "      <th>nom_departement</th>\n",
       "      <th>code_region</th>\n",
       "      <th>nom_region</th>\n",
       "      <th>population</th>\n",
       "      <th>metre carre</th>\n",
       "    </tr>\n",
       "  </thead>\n",
       "  <tbody>\n",
       "    <tr>\n",
       "      <th>0</th>\n",
       "      <td>01</td>\n",
       "      <td>Ain</td>\n",
       "      <td>84</td>\n",
       "      <td>Auvergne-Rhône-Alpes</td>\n",
       "      <td>647634.0</td>\n",
       "      <td>2173.116782</td>\n",
       "    </tr>\n",
       "    <tr>\n",
       "      <th>1</th>\n",
       "      <td>02</td>\n",
       "      <td>Aisne</td>\n",
       "      <td>32</td>\n",
       "      <td>Hauts-de-France</td>\n",
       "      <td>533316.0</td>\n",
       "      <td>1251.939757</td>\n",
       "    </tr>\n",
       "    <tr>\n",
       "      <th>2</th>\n",
       "      <td>03</td>\n",
       "      <td>Allier</td>\n",
       "      <td>84</td>\n",
       "      <td>Auvergne-Rhône-Alpes</td>\n",
       "      <td>337171.0</td>\n",
       "      <td>1089.487910</td>\n",
       "    </tr>\n",
       "    <tr>\n",
       "      <th>3</th>\n",
       "      <td>04</td>\n",
       "      <td>Alpes-de-Haute-Provence</td>\n",
       "      <td>93</td>\n",
       "      <td>Provence-Alpes-Côte d'Azur</td>\n",
       "      <td>164068.0</td>\n",
       "      <td>1808.892591</td>\n",
       "    </tr>\n",
       "    <tr>\n",
       "      <th>4</th>\n",
       "      <td>05</td>\n",
       "      <td>Hautes-Alpes</td>\n",
       "      <td>93</td>\n",
       "      <td>Provence-Alpes-Côte d'Azur</td>\n",
       "      <td>140698.0</td>\n",
       "      <td>2025.721635</td>\n",
       "    </tr>\n",
       "    <tr>\n",
       "      <th>...</th>\n",
       "      <td>...</td>\n",
       "      <td>...</td>\n",
       "      <td>...</td>\n",
       "      <td>...</td>\n",
       "      <td>...</td>\n",
       "      <td>...</td>\n",
       "    </tr>\n",
       "    <tr>\n",
       "      <th>96</th>\n",
       "      <td>971</td>\n",
       "      <td>Guadeloupe</td>\n",
       "      <td>1</td>\n",
       "      <td>Guadeloupe</td>\n",
       "      <td>407000.0</td>\n",
       "      <td>1739.662240</td>\n",
       "    </tr>\n",
       "    <tr>\n",
       "      <th>97</th>\n",
       "      <td>972</td>\n",
       "      <td>Martinique</td>\n",
       "      <td>2</td>\n",
       "      <td>Martinique</td>\n",
       "      <td>352000.0</td>\n",
       "      <td>1739.662240</td>\n",
       "    </tr>\n",
       "    <tr>\n",
       "      <th>98</th>\n",
       "      <td>973</td>\n",
       "      <td>Guyane</td>\n",
       "      <td>3</td>\n",
       "      <td>Guyane</td>\n",
       "      <td>294000.0</td>\n",
       "      <td>1739.662240</td>\n",
       "    </tr>\n",
       "    <tr>\n",
       "      <th>99</th>\n",
       "      <td>974</td>\n",
       "      <td>La Réunion</td>\n",
       "      <td>4</td>\n",
       "      <td>La Réunion</td>\n",
       "      <td>860000.0</td>\n",
       "      <td>1739.662240</td>\n",
       "    </tr>\n",
       "    <tr>\n",
       "      <th>100</th>\n",
       "      <td>976</td>\n",
       "      <td>Mayotte</td>\n",
       "      <td>6</td>\n",
       "      <td>Mayotte</td>\n",
       "      <td>270000.0</td>\n",
       "      <td>1739.662240</td>\n",
       "    </tr>\n",
       "  </tbody>\n",
       "</table>\n",
       "<p>101 rows × 6 columns</p>\n",
       "</div>"
      ],
      "text/plain": [
       "    code_departement          nom_departement  code_region  \\\n",
       "0                 01                      Ain           84   \n",
       "1                 02                    Aisne           32   \n",
       "2                 03                   Allier           84   \n",
       "3                 04  Alpes-de-Haute-Provence           93   \n",
       "4                 05             Hautes-Alpes           93   \n",
       "..               ...                      ...          ...   \n",
       "96               971               Guadeloupe            1   \n",
       "97               972               Martinique            2   \n",
       "98               973                   Guyane            3   \n",
       "99               974               La Réunion            4   \n",
       "100              976                  Mayotte            6   \n",
       "\n",
       "                     nom_region  population  metre carre  \n",
       "0          Auvergne-Rhône-Alpes    647634.0  2173.116782  \n",
       "1               Hauts-de-France    533316.0  1251.939757  \n",
       "2          Auvergne-Rhône-Alpes    337171.0  1089.487910  \n",
       "3    Provence-Alpes-Côte d'Azur    164068.0  1808.892591  \n",
       "4    Provence-Alpes-Côte d'Azur    140698.0  2025.721635  \n",
       "..                          ...         ...          ...  \n",
       "96                   Guadeloupe    407000.0  1739.662240  \n",
       "97                   Martinique    352000.0  1739.662240  \n",
       "98                       Guyane    294000.0  1739.662240  \n",
       "99                   La Réunion    860000.0  1739.662240  \n",
       "100                     Mayotte    270000.0  1739.662240  \n",
       "\n",
       "[101 rows x 6 columns]"
      ]
     },
     "execution_count": 31,
     "metadata": {},
     "output_type": "execute_result"
    }
   ],
   "source": [
    "departements = pd.read_csv('../assets/data/departement.csv', sep=';')\n",
    "departements"
   ]
  },
  {
   "cell_type": "code",
   "execution_count": 32,
   "metadata": {},
   "outputs": [
    {
     "data": {
      "text/html": [
       "<div>\n",
       "<style scoped>\n",
       "    .dataframe tbody tr th:only-of-type {\n",
       "        vertical-align: middle;\n",
       "    }\n",
       "\n",
       "    .dataframe tbody tr th {\n",
       "        vertical-align: top;\n",
       "    }\n",
       "\n",
       "    .dataframe thead th {\n",
       "        text-align: right;\n",
       "    }\n",
       "</style>\n",
       "<table border=\"1\" class=\"dataframe\">\n",
       "  <thead>\n",
       "    <tr style=\"text-align: right;\">\n",
       "      <th></th>\n",
       "      <th>Date mutation</th>\n",
       "      <th>Nature mutation</th>\n",
       "      <th>No voie</th>\n",
       "      <th>B/T/Q</th>\n",
       "      <th>Type de voie</th>\n",
       "      <th>Code voie</th>\n",
       "      <th>Voie</th>\n",
       "      <th>Code postal</th>\n",
       "      <th>Commune</th>\n",
       "      <th>Code departement</th>\n",
       "      <th>...</th>\n",
       "      <th>Surface Carrez du 5eme lot</th>\n",
       "      <th>Nombre de lots</th>\n",
       "      <th>Type local</th>\n",
       "      <th>Identifiant local</th>\n",
       "      <th>Surface reelle bati</th>\n",
       "      <th>Nombre pieces principales</th>\n",
       "      <th>Nature culture</th>\n",
       "      <th>Nature culture speciale</th>\n",
       "      <th>Surface terrain</th>\n",
       "      <th>ID</th>\n",
       "    </tr>\n",
       "  </thead>\n",
       "  <tbody>\n",
       "    <tr>\n",
       "      <th>0</th>\n",
       "      <td>03/01/2022</td>\n",
       "      <td>Vente</td>\n",
       "      <td>13.0</td>\n",
       "      <td>NaN</td>\n",
       "      <td>RUE</td>\n",
       "      <td>2280</td>\n",
       "      <td>DE LA LIBERTE</td>\n",
       "      <td>1000.0</td>\n",
       "      <td>BOURG-EN-BRESSE</td>\n",
       "      <td>1</td>\n",
       "      <td>...</td>\n",
       "      <td>NaN</td>\n",
       "      <td>1</td>\n",
       "      <td>Appartement</td>\n",
       "      <td>NaN</td>\n",
       "      <td>24.0</td>\n",
       "      <td>1.0</td>\n",
       "      <td>NaN</td>\n",
       "      <td>NaN</td>\n",
       "      <td>NaN</td>\n",
       "      <td>1</td>\n",
       "    </tr>\n",
       "    <tr>\n",
       "      <th>1</th>\n",
       "      <td>03/01/2022</td>\n",
       "      <td>Vente</td>\n",
       "      <td>98.0</td>\n",
       "      <td>NaN</td>\n",
       "      <td>RTE</td>\n",
       "      <td>0055</td>\n",
       "      <td>DE LA DOMBES</td>\n",
       "      <td>1480.0</td>\n",
       "      <td>SAVIGNEUX</td>\n",
       "      <td>1</td>\n",
       "      <td>...</td>\n",
       "      <td>NaN</td>\n",
       "      <td>1</td>\n",
       "      <td>Appartement</td>\n",
       "      <td>NaN</td>\n",
       "      <td>140.0</td>\n",
       "      <td>3.0</td>\n",
       "      <td>NaN</td>\n",
       "      <td>NaN</td>\n",
       "      <td>NaN</td>\n",
       "      <td>2</td>\n",
       "    </tr>\n",
       "    <tr>\n",
       "      <th>2</th>\n",
       "      <td>06/01/2022</td>\n",
       "      <td>Vente</td>\n",
       "      <td>282.0</td>\n",
       "      <td>NaN</td>\n",
       "      <td>RTE</td>\n",
       "      <td>0130</td>\n",
       "      <td>DE POISATON</td>\n",
       "      <td>1560.0</td>\n",
       "      <td>MANTENAY-MONTLIN</td>\n",
       "      <td>1</td>\n",
       "      <td>...</td>\n",
       "      <td>NaN</td>\n",
       "      <td>0</td>\n",
       "      <td>Maison</td>\n",
       "      <td>NaN</td>\n",
       "      <td>108.0</td>\n",
       "      <td>5.0</td>\n",
       "      <td>S</td>\n",
       "      <td>NaN</td>\n",
       "      <td>649.0</td>\n",
       "      <td>3</td>\n",
       "    </tr>\n",
       "    <tr>\n",
       "      <th>3</th>\n",
       "      <td>05/01/2022</td>\n",
       "      <td>Vente</td>\n",
       "      <td>7.0</td>\n",
       "      <td>NaN</td>\n",
       "      <td>RUE</td>\n",
       "      <td>0031</td>\n",
       "      <td>DU CORNIER</td>\n",
       "      <td>1150.0</td>\n",
       "      <td>VAUX-EN-BUGEY</td>\n",
       "      <td>1</td>\n",
       "      <td>...</td>\n",
       "      <td>NaN</td>\n",
       "      <td>0</td>\n",
       "      <td>Maison</td>\n",
       "      <td>NaN</td>\n",
       "      <td>85.0</td>\n",
       "      <td>4.0</td>\n",
       "      <td>S</td>\n",
       "      <td>NaN</td>\n",
       "      <td>310.0</td>\n",
       "      <td>4</td>\n",
       "    </tr>\n",
       "    <tr>\n",
       "      <th>4</th>\n",
       "      <td>06/01/2022</td>\n",
       "      <td>Vente</td>\n",
       "      <td>7.0</td>\n",
       "      <td>NaN</td>\n",
       "      <td>RUE</td>\n",
       "      <td>3125</td>\n",
       "      <td>DES PINS</td>\n",
       "      <td>1000.0</td>\n",
       "      <td>BOURG-EN-BRESSE</td>\n",
       "      <td>1</td>\n",
       "      <td>...</td>\n",
       "      <td>NaN</td>\n",
       "      <td>0</td>\n",
       "      <td>NaN</td>\n",
       "      <td>NaN</td>\n",
       "      <td>99.0</td>\n",
       "      <td>5.0</td>\n",
       "      <td>S</td>\n",
       "      <td>NaN</td>\n",
       "      <td>765.0</td>\n",
       "      <td>5</td>\n",
       "    </tr>\n",
       "  </tbody>\n",
       "</table>\n",
       "<p>5 rows × 34 columns</p>\n",
       "</div>"
      ],
      "text/plain": [
       "  Date mutation Nature mutation  No voie B/T/Q Type de voie Code voie  \\\n",
       "0    03/01/2022           Vente     13.0   NaN          RUE      2280   \n",
       "1    03/01/2022           Vente     98.0   NaN          RTE      0055   \n",
       "2    06/01/2022           Vente    282.0   NaN          RTE      0130   \n",
       "3    05/01/2022           Vente      7.0   NaN          RUE      0031   \n",
       "4    06/01/2022           Vente      7.0   NaN          RUE      3125   \n",
       "\n",
       "            Voie  Code postal           Commune Code departement  ...  \\\n",
       "0  DE LA LIBERTE       1000.0   BOURG-EN-BRESSE                1  ...   \n",
       "1   DE LA DOMBES       1480.0         SAVIGNEUX                1  ...   \n",
       "2    DE POISATON       1560.0  MANTENAY-MONTLIN                1  ...   \n",
       "3     DU CORNIER       1150.0     VAUX-EN-BUGEY                1  ...   \n",
       "4       DES PINS       1000.0   BOURG-EN-BRESSE                1  ...   \n",
       "\n",
       "   Surface Carrez du 5eme lot  Nombre de lots   Type local  Identifiant local  \\\n",
       "0                         NaN               1  Appartement                NaN   \n",
       "1                         NaN               1  Appartement                NaN   \n",
       "2                         NaN               0       Maison                NaN   \n",
       "3                         NaN               0       Maison                NaN   \n",
       "4                         NaN               0          NaN                NaN   \n",
       "\n",
       "   Surface reelle bati Nombre pieces principales Nature culture  \\\n",
       "0                 24.0                       1.0            NaN   \n",
       "1                140.0                       3.0            NaN   \n",
       "2                108.0                       5.0              S   \n",
       "3                 85.0                       4.0              S   \n",
       "4                 99.0                       5.0              S   \n",
       "\n",
       "  Nature culture speciale Surface terrain ID  \n",
       "0                     NaN             NaN  1  \n",
       "1                     NaN             NaN  2  \n",
       "2                     NaN           649.0  3  \n",
       "3                     NaN           310.0  4  \n",
       "4                     NaN           765.0  5  \n",
       "\n",
       "[5 rows x 34 columns]"
      ]
     },
     "execution_count": 32,
     "metadata": {},
     "output_type": "execute_result"
    }
   ],
   "source": [
    "df.head()"
   ]
  },
  {
   "cell_type": "code",
   "execution_count": 33,
   "metadata": {},
   "outputs": [
    {
     "name": "stderr",
     "output_type": "stream",
     "text": [
      "/var/folders/p1/rvvwk6r96h3bxxgql7f7p5ch0000gn/T/ipykernel_6390/2146635718.py:2: SettingWithCopyWarning: \n",
      "A value is trying to be set on a copy of a slice from a DataFrame.\n",
      "Try using .loc[row_indexer,col_indexer] = value instead\n",
      "\n",
      "See the caveats in the documentation: https://pandas.pydata.org/pandas-docs/stable/user_guide/indexing.html#returning-a-view-versus-a-copy\n",
      "  df2['Code departement'] = df2['Code departement'].astype('str').str.pad(2, side='left', fillchar='0')\n"
     ]
    },
    {
     "data": {
      "text/html": [
       "<div>\n",
       "<style scoped>\n",
       "    .dataframe tbody tr th:only-of-type {\n",
       "        vertical-align: middle;\n",
       "    }\n",
       "\n",
       "    .dataframe tbody tr th {\n",
       "        vertical-align: top;\n",
       "    }\n",
       "\n",
       "    .dataframe thead th {\n",
       "        text-align: right;\n",
       "    }\n",
       "</style>\n",
       "<table border=\"1\" class=\"dataframe\">\n",
       "  <thead>\n",
       "    <tr style=\"text-align: right;\">\n",
       "      <th></th>\n",
       "      <th>ID</th>\n",
       "      <th>Surface reelle bati</th>\n",
       "      <th>Surface terrain</th>\n",
       "      <th>Code departement</th>\n",
       "    </tr>\n",
       "  </thead>\n",
       "  <tbody>\n",
       "    <tr>\n",
       "      <th>0</th>\n",
       "      <td>1</td>\n",
       "      <td>24.0</td>\n",
       "      <td>NaN</td>\n",
       "      <td>01</td>\n",
       "    </tr>\n",
       "    <tr>\n",
       "      <th>1</th>\n",
       "      <td>2</td>\n",
       "      <td>140.0</td>\n",
       "      <td>NaN</td>\n",
       "      <td>01</td>\n",
       "    </tr>\n",
       "    <tr>\n",
       "      <th>2</th>\n",
       "      <td>3</td>\n",
       "      <td>108.0</td>\n",
       "      <td>649.0</td>\n",
       "      <td>01</td>\n",
       "    </tr>\n",
       "    <tr>\n",
       "      <th>3</th>\n",
       "      <td>4</td>\n",
       "      <td>85.0</td>\n",
       "      <td>310.0</td>\n",
       "      <td>01</td>\n",
       "    </tr>\n",
       "    <tr>\n",
       "      <th>4</th>\n",
       "      <td>5</td>\n",
       "      <td>99.0</td>\n",
       "      <td>765.0</td>\n",
       "      <td>01</td>\n",
       "    </tr>\n",
       "  </tbody>\n",
       "</table>\n",
       "</div>"
      ],
      "text/plain": [
       "   ID  Surface reelle bati  Surface terrain Code departement\n",
       "0   1                 24.0              NaN               01\n",
       "1   2                140.0              NaN               01\n",
       "2   3                108.0            649.0               01\n",
       "3   4                 85.0            310.0               01\n",
       "4   5                 99.0            765.0               01"
      ]
     },
     "execution_count": 33,
     "metadata": {},
     "output_type": "execute_result"
    }
   ],
   "source": [
    "df2 = df[['ID', 'Surface reelle bati', 'Surface terrain', 'Code departement']]\n",
    "df2['Code departement'] = df2['Code departement'].astype('str').str.pad(2, side='left', fillchar='0')\n",
    "df2.head()"
   ]
  },
  {
   "cell_type": "code",
   "execution_count": 34,
   "metadata": {},
   "outputs": [
    {
     "data": {
      "text/html": [
       "<div>\n",
       "<style scoped>\n",
       "    .dataframe tbody tr th:only-of-type {\n",
       "        vertical-align: middle;\n",
       "    }\n",
       "\n",
       "    .dataframe tbody tr th {\n",
       "        vertical-align: top;\n",
       "    }\n",
       "\n",
       "    .dataframe thead th {\n",
       "        text-align: right;\n",
       "    }\n",
       "</style>\n",
       "<table border=\"1\" class=\"dataframe\">\n",
       "  <thead>\n",
       "    <tr style=\"text-align: right;\">\n",
       "      <th></th>\n",
       "      <th>ID</th>\n",
       "      <th>Surface reelle bati</th>\n",
       "      <th>Surface terrain</th>\n",
       "      <th>Code departement</th>\n",
       "      <th>code_departement</th>\n",
       "      <th>nom_departement</th>\n",
       "      <th>code_region</th>\n",
       "      <th>nom_region</th>\n",
       "      <th>population</th>\n",
       "      <th>metre carre</th>\n",
       "    </tr>\n",
       "  </thead>\n",
       "  <tbody>\n",
       "    <tr>\n",
       "      <th>0</th>\n",
       "      <td>1</td>\n",
       "      <td>24.0</td>\n",
       "      <td>NaN</td>\n",
       "      <td>01</td>\n",
       "      <td>01</td>\n",
       "      <td>Ain</td>\n",
       "      <td>84</td>\n",
       "      <td>Auvergne-Rhône-Alpes</td>\n",
       "      <td>647634.0</td>\n",
       "      <td>2173.116782</td>\n",
       "    </tr>\n",
       "    <tr>\n",
       "      <th>1</th>\n",
       "      <td>2</td>\n",
       "      <td>140.0</td>\n",
       "      <td>NaN</td>\n",
       "      <td>01</td>\n",
       "      <td>01</td>\n",
       "      <td>Ain</td>\n",
       "      <td>84</td>\n",
       "      <td>Auvergne-Rhône-Alpes</td>\n",
       "      <td>647634.0</td>\n",
       "      <td>2173.116782</td>\n",
       "    </tr>\n",
       "    <tr>\n",
       "      <th>2</th>\n",
       "      <td>3</td>\n",
       "      <td>108.0</td>\n",
       "      <td>649.0</td>\n",
       "      <td>01</td>\n",
       "      <td>01</td>\n",
       "      <td>Ain</td>\n",
       "      <td>84</td>\n",
       "      <td>Auvergne-Rhône-Alpes</td>\n",
       "      <td>647634.0</td>\n",
       "      <td>2173.116782</td>\n",
       "    </tr>\n",
       "    <tr>\n",
       "      <th>3</th>\n",
       "      <td>4</td>\n",
       "      <td>85.0</td>\n",
       "      <td>310.0</td>\n",
       "      <td>01</td>\n",
       "      <td>01</td>\n",
       "      <td>Ain</td>\n",
       "      <td>84</td>\n",
       "      <td>Auvergne-Rhône-Alpes</td>\n",
       "      <td>647634.0</td>\n",
       "      <td>2173.116782</td>\n",
       "    </tr>\n",
       "    <tr>\n",
       "      <th>4</th>\n",
       "      <td>5</td>\n",
       "      <td>99.0</td>\n",
       "      <td>765.0</td>\n",
       "      <td>01</td>\n",
       "      <td>01</td>\n",
       "      <td>Ain</td>\n",
       "      <td>84</td>\n",
       "      <td>Auvergne-Rhône-Alpes</td>\n",
       "      <td>647634.0</td>\n",
       "      <td>2173.116782</td>\n",
       "    </tr>\n",
       "  </tbody>\n",
       "</table>\n",
       "</div>"
      ],
      "text/plain": [
       "   ID  Surface reelle bati  Surface terrain Code departement code_departement  \\\n",
       "0   1                 24.0              NaN               01               01   \n",
       "1   2                140.0              NaN               01               01   \n",
       "2   3                108.0            649.0               01               01   \n",
       "3   4                 85.0            310.0               01               01   \n",
       "4   5                 99.0            765.0               01               01   \n",
       "\n",
       "  nom_departement  code_region            nom_region  population  metre carre  \n",
       "0             Ain           84  Auvergne-Rhône-Alpes    647634.0  2173.116782  \n",
       "1             Ain           84  Auvergne-Rhône-Alpes    647634.0  2173.116782  \n",
       "2             Ain           84  Auvergne-Rhône-Alpes    647634.0  2173.116782  \n",
       "3             Ain           84  Auvergne-Rhône-Alpes    647634.0  2173.116782  \n",
       "4             Ain           84  Auvergne-Rhône-Alpes    647634.0  2173.116782  "
      ]
     },
     "execution_count": 34,
     "metadata": {},
     "output_type": "execute_result"
    }
   ],
   "source": [
    "df2 = df2.merge(departements, how='left', right_on='code_departement', left_on='Code departement')\n",
    "df2.head()"
   ]
  },
  {
   "cell_type": "code",
   "execution_count": 35,
   "metadata": {},
   "outputs": [],
   "source": [
    "def defineSurface(x):\n",
    "    if (x['Surface reelle bati'] > 0):\n",
    "        return x['Surface reelle bati']\n",
    "    elif (x['Surface terrain'] > 0):\n",
    "        return x['Surface terrain']\n",
    "    else:\n",
    "        return pd.NA"
   ]
  },
  {
   "cell_type": "code",
   "execution_count": 37,
   "metadata": {},
   "outputs": [],
   "source": [
    "df2['Surface'] = df2.apply(defineSurface, axis=1)"
   ]
  },
  {
   "cell_type": "code",
   "execution_count": 39,
   "metadata": {},
   "outputs": [],
   "source": [
    "df2['total'] = df2['population']"
   ]
  },
  {
   "cell_type": "code",
   "execution_count": 47,
   "metadata": {},
   "outputs": [
    {
     "data": {
      "text/html": [
       "<div>\n",
       "<style scoped>\n",
       "    .dataframe tbody tr th:only-of-type {\n",
       "        vertical-align: middle;\n",
       "    }\n",
       "\n",
       "    .dataframe tbody tr th {\n",
       "        vertical-align: top;\n",
       "    }\n",
       "\n",
       "    .dataframe thead th {\n",
       "        text-align: right;\n",
       "    }\n",
       "</style>\n",
       "<table border=\"1\" class=\"dataframe\">\n",
       "  <thead>\n",
       "    <tr style=\"text-align: right;\">\n",
       "      <th></th>\n",
       "      <th>metre carre</th>\n",
       "      <th>total</th>\n",
       "      <th>Surface</th>\n",
       "    </tr>\n",
       "  </thead>\n",
       "  <tbody>\n",
       "    <tr>\n",
       "      <th>0</th>\n",
       "      <td>2173.116782</td>\n",
       "      <td>647634.0</td>\n",
       "      <td>24.0</td>\n",
       "    </tr>\n",
       "    <tr>\n",
       "      <th>1</th>\n",
       "      <td>2173.116782</td>\n",
       "      <td>647634.0</td>\n",
       "      <td>140.0</td>\n",
       "    </tr>\n",
       "    <tr>\n",
       "      <th>2</th>\n",
       "      <td>2173.116782</td>\n",
       "      <td>647634.0</td>\n",
       "      <td>108.0</td>\n",
       "    </tr>\n",
       "    <tr>\n",
       "      <th>3</th>\n",
       "      <td>2173.116782</td>\n",
       "      <td>647634.0</td>\n",
       "      <td>85.0</td>\n",
       "    </tr>\n",
       "    <tr>\n",
       "      <th>4</th>\n",
       "      <td>2173.116782</td>\n",
       "      <td>647634.0</td>\n",
       "      <td>99.0</td>\n",
       "    </tr>\n",
       "  </tbody>\n",
       "</table>\n",
       "</div>"
      ],
      "text/plain": [
       "   metre carre     total Surface\n",
       "0  2173.116782  647634.0    24.0\n",
       "1  2173.116782  647634.0   140.0\n",
       "2  2173.116782  647634.0   108.0\n",
       "3  2173.116782  647634.0    85.0\n",
       "4  2173.116782  647634.0    99.0"
      ]
     },
     "execution_count": 47,
     "metadata": {},
     "output_type": "execute_result"
    }
   ],
   "source": [
    "X = df2[['metre carre', 'total', 'Surface']]\n",
    "X.head()"
   ]
  },
  {
   "cell_type": "code",
   "execution_count": 50,
   "metadata": {},
   "outputs": [],
   "source": [
    "median = df2['Surface'].median()"
   ]
  },
  {
   "cell_type": "code",
   "execution_count": 54,
   "metadata": {},
   "outputs": [
    {
     "name": "stderr",
     "output_type": "stream",
     "text": [
      "/var/folders/p1/rvvwk6r96h3bxxgql7f7p5ch0000gn/T/ipykernel_6390/2413362276.py:1: SettingWithCopyWarning: \n",
      "A value is trying to be set on a copy of a slice from a DataFrame.\n",
      "Try using .loc[row_indexer,col_indexer] = value instead\n",
      "\n",
      "See the caveats in the documentation: https://pandas.pydata.org/pandas-docs/stable/user_guide/indexing.html#returning-a-view-versus-a-copy\n",
      "  X['Surface'] = X['Surface'].fillna(median)\n"
     ]
    }
   ],
   "source": [
    "X['Surface'] = X['Surface'].fillna(median)"
   ]
  },
  {
   "cell_type": "code",
   "execution_count": 72,
   "metadata": {},
   "outputs": [],
   "source": [
    "Z = pd.DataFrame(scaler.transform(X), columns=X.columns)"
   ]
  },
  {
   "cell_type": "code",
   "execution_count": 64,
   "metadata": {},
   "outputs": [
    {
     "data": {
      "text/html": [
       "<div>\n",
       "<style scoped>\n",
       "    .dataframe tbody tr th:only-of-type {\n",
       "        vertical-align: middle;\n",
       "    }\n",
       "\n",
       "    .dataframe tbody tr th {\n",
       "        vertical-align: top;\n",
       "    }\n",
       "\n",
       "    .dataframe thead th {\n",
       "        text-align: right;\n",
       "    }\n",
       "</style>\n",
       "<table border=\"1\" class=\"dataframe\">\n",
       "  <thead>\n",
       "    <tr style=\"text-align: right;\">\n",
       "      <th></th>\n",
       "      <th>ID</th>\n",
       "    </tr>\n",
       "  </thead>\n",
       "  <tbody>\n",
       "    <tr>\n",
       "      <th>0</th>\n",
       "      <td>1</td>\n",
       "    </tr>\n",
       "    <tr>\n",
       "      <th>1</th>\n",
       "      <td>2</td>\n",
       "    </tr>\n",
       "    <tr>\n",
       "      <th>2</th>\n",
       "      <td>3</td>\n",
       "    </tr>\n",
       "    <tr>\n",
       "      <th>3</th>\n",
       "      <td>4</td>\n",
       "    </tr>\n",
       "    <tr>\n",
       "      <th>4</th>\n",
       "      <td>5</td>\n",
       "    </tr>\n",
       "    <tr>\n",
       "      <th>...</th>\n",
       "      <td>...</td>\n",
       "    </tr>\n",
       "    <tr>\n",
       "      <th>378036</th>\n",
       "      <td>378037</td>\n",
       "    </tr>\n",
       "    <tr>\n",
       "      <th>378037</th>\n",
       "      <td>378038</td>\n",
       "    </tr>\n",
       "    <tr>\n",
       "      <th>378038</th>\n",
       "      <td>378039</td>\n",
       "    </tr>\n",
       "    <tr>\n",
       "      <th>378039</th>\n",
       "      <td>378040</td>\n",
       "    </tr>\n",
       "    <tr>\n",
       "      <th>378040</th>\n",
       "      <td>378041</td>\n",
       "    </tr>\n",
       "  </tbody>\n",
       "</table>\n",
       "<p>378041 rows × 1 columns</p>\n",
       "</div>"
      ],
      "text/plain": [
       "            ID\n",
       "0            1\n",
       "1            2\n",
       "2            3\n",
       "3            4\n",
       "4            5\n",
       "...        ...\n",
       "378036  378037\n",
       "378037  378038\n",
       "378038  378039\n",
       "378039  378040\n",
       "378040  378041\n",
       "\n",
       "[378041 rows x 1 columns]"
      ]
     },
     "execution_count": 64,
     "metadata": {},
     "output_type": "execute_result"
    }
   ],
   "source": [
    "to_sumbit = df2[['ID']]\n",
    "to_sumbit"
   ]
  },
  {
   "cell_type": "code",
   "execution_count": 67,
   "metadata": {},
   "outputs": [],
   "source": [
    "target = regresssor.predict(Z)"
   ]
  },
  {
   "cell_type": "code",
   "execution_count": 75,
   "metadata": {},
   "outputs": [],
   "source": [
    "dfTarget = pd.DataFrame(target, index=X.index, columns=['TARGET'])"
   ]
  },
  {
   "cell_type": "code",
   "execution_count": 77,
   "metadata": {},
   "outputs": [
    {
     "name": "stderr",
     "output_type": "stream",
     "text": [
      "/var/folders/p1/rvvwk6r96h3bxxgql7f7p5ch0000gn/T/ipykernel_6390/3825994850.py:1: SettingWithCopyWarning: \n",
      "A value is trying to be set on a copy of a slice from a DataFrame.\n",
      "Try using .loc[row_indexer,col_indexer] = value instead\n",
      "\n",
      "See the caveats in the documentation: https://pandas.pydata.org/pandas-docs/stable/user_guide/indexing.html#returning-a-view-versus-a-copy\n",
      "  to_sumbit['TARGET'] = dfTarget['TARGET']\n"
     ]
    }
   ],
   "source": [
    "to_sumbit['TARGET'] = dfTarget['TARGET']"
   ]
  },
  {
   "cell_type": "code",
   "execution_count": 81,
   "metadata": {},
   "outputs": [],
   "source": [
    "to_sumbit.to_csv('../assets/data/our_submission.csv', sep=',', index=False)"
   ]
  }
 ],
 "metadata": {
  "kernelspec": {
   "display_name": ".venv",
   "language": "python",
   "name": "python3"
  },
  "language_info": {
   "codemirror_mode": {
    "name": "ipython",
    "version": 3
   },
   "file_extension": ".py",
   "mimetype": "text/x-python",
   "name": "python",
   "nbconvert_exporter": "python",
   "pygments_lexer": "ipython3",
   "version": "3.11.6"
  },
  "orig_nbformat": 4
 },
 "nbformat": 4,
 "nbformat_minor": 2
}
